{
 "cells": [
  {
   "cell_type": "markdown",
   "metadata": {},
   "source": [
    "### 探索客户的基本信息分布情况"
   ]
  },
  {
   "cell_type": "code",
   "execution_count": 5,
   "metadata": {},
   "outputs": [
    {
     "name": "stdout",
     "output_type": "stream",
     "text": [
      "原始数据：\n",
      "    MEMBER_NO   FFP_DATE FIRST_FLIGHT_DATE GENDER  FFP_TIER    WORK_CITY  \\\n",
      "0      54993  2006/11/2        2008/12/24      男         6            .   \n",
      "1      28065  2007/2/19          2007/8/3      男         6          NaN   \n",
      "2      55106   2007/2/1         2007/8/30      男         6            .   \n",
      "3      21189  2008/8/22         2008/8/23      男         5  Los Angeles   \n",
      "4      39546  2009/4/10         2009/4/15      男         6           贵阳   \n",
      "\n",
      "  WORK_PROVINCE WORK_COUNTRY   AGE  LOAD_TIME  ...  ADD_Point_SUM  \\\n",
      "0            北京           CN  31.0  2014/3/31  ...          39992   \n",
      "1            北京           CN  42.0  2014/3/31  ...          12000   \n",
      "2            北京           CN  40.0  2014/3/31  ...          15491   \n",
      "3            CA           US  64.0  2014/3/31  ...              0   \n",
      "4            贵州           CN  48.0  2014/3/31  ...          22704   \n",
      "\n",
      "   Eli_Add_Point_Sum  L1Y_ELi_Add_Points  Points_Sum  L1Y_Points_Sum  \\\n",
      "0             114452              111100      619760          370211   \n",
      "1              53288               53288      415768          238410   \n",
      "2              55202               51711      406361          233798   \n",
      "3              34890               34890      372204          186100   \n",
      "4              64969               64969      338813          210365   \n",
      "\n",
      "   Ration_L1Y_Flight_Count  Ration_P1Y_Flight_Count  Ration_P1Y_BPS  \\\n",
      "0                 0.509524                 0.490476        0.487221   \n",
      "1                 0.514286                 0.485714        0.489289   \n",
      "2                 0.518519                 0.481481        0.481467   \n",
      "3                 0.434783                 0.565217        0.551722   \n",
      "4                 0.532895                 0.467105        0.469054   \n",
      "\n",
      "  Ration_L1Y_BPS  Point_NotFlight  \n",
      "0       0.512777               50  \n",
      "1       0.510708               33  \n",
      "2       0.518530               26  \n",
      "3       0.448275               12  \n",
      "4       0.530943               39  \n",
      "\n",
      "[5 rows x 44 columns] \n",
      "...\n",
      "\n"
     ]
    }
   ],
   "source": [
    "import pandas as pd\n",
    "import matplotlib.pyplot as plt\n",
    "data = pd.read_csv(\"C:/Users/ylc/GitHub/Learning/Python/Hands-onDataAnalysisandDataMiningwithPython/air_data.csv\")\n",
    "print(\"原始数据：\\n\", data.loc[0:4], \"\\n...\\n\")"
   ]
  },
  {
   "cell_type": "code",
   "execution_count": 8,
   "metadata": {},
   "outputs": [
    {
     "data": {
      "image/png": "[encoded data removed]",
      "text/plain": [
       "<Figure size 576x360 with 1 Axes>"
      ]
     },
     "metadata": {
      "needs_background": "light"
     },
     "output_type": "display_data"
    }
   ],
   "source": [
    "# 客户信息类别\n",
    "# 提取会员入会年份\n",
    "from datetime import datetime\n",
    "ffp = data['FFP_DATE'].apply(lambda x:datetime.strptime(x, '%Y/%m/%d'))\n",
    "ffp_year = ffp.map(lambda x:x.year)\n",
    "# 绘制各年份会员入会人数直方图\n",
    "fig = plt.figure(figsize=(8, 5))\n",
    "plt.rcParams['font.sans-serif'] = 'SimHei'\n",
    "plt.rcParams['axes.unicode_minus'] = False\n",
    "plt.hist(ffp_year, bins='auto', color='#0504aa')\n",
    "plt.xlabel('年份')\n",
    "plt.ylabel('入会人数')\n",
    "plt.title('各年份会员入会人数')\n",
    "plt.show()"
   ]
  },
  {
   "cell_type": "code",
   "execution_count": null,
   "metadata": {},
   "outputs": [],
   "source": []
  }
 ],
 "metadata": {
  "kernelspec": {
   "display_name": "Python 3",
   "language": "python",
   "name": "python3"
  },
  "language_info": {
   "codemirror_mode": {
    "name": "ipython",
    "version": 3
   },
   "file_extension": ".py",
   "mimetype": "text/x-python",
   "name": "python",
   "nbconvert_exporter": "python",
   "pygments_lexer": "ipython3",
   "version": "3.8.5"
  },
  "varInspector": {
   "cols": {
    "lenName": 16,
    "lenType": 16,
    "lenVar": 40
   },
   "kernels_config": {
    "python": {
     "delete_cmd_postfix": "",
     "delete_cmd_prefix": "del ",
     "library": "var_list.py",
     "varRefreshCmd": "print(var_dic_list())"
    },
    "r": {
     "delete_cmd_postfix": ") ",
     "delete_cmd_prefix": "rm(",
     "library": "var_list.r",
     "varRefreshCmd": "cat(var_dic_list()) "
    }
   },
   "types_to_exclude": [
    "module",
    "function",
    "builtin_function_or_method",
    "instance",
    "_Feature"
   ],
   "window_display": false
  }
 },
 "nbformat": 4,
 "nbformat_minor": 4
}
