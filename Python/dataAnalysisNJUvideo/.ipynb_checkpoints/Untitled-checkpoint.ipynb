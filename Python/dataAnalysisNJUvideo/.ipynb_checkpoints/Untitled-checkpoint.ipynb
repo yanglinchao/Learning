{
 "cells": [
  {
   "cell_type": "markdown",
   "metadata": {},
   "source": [
    "dir(__builtins__)"
   ]
  },
  {
   "cell_type": "code",
   "execution_count": 2,
   "metadata": {},
   "outputs": [
    {
     "name": "stdout",
     "output_type": "stream",
     "text": [
      "Help on built-in function chr in module builtins:\n",
      "\n",
      "chr(i, /)\n",
      "    Return a Unicode string of one character with ordinal i; 0 <= i <= 0x10ffff.\n",
      "\n"
     ]
    }
   ],
   "source": [
    "help(chr)"
   ]
  },
  {
   "cell_type": "code",
   "execution_count": 5,
   "metadata": {},
   "outputs": [
    {
     "name": "stdout",
     "output_type": "stream",
     "text": [
      "the first side:3\n",
      "the second side:6\n",
      "the rectangle's area is 18\n"
     ]
    }
   ],
   "source": [
    "sd1 = int(input('the first side:'))\n",
    "sd2 = int(input('the second side:'))\n",
    "if sd1 == sd2:\n",
    "    print(\"the square's area is\", sd1*sd2)\n",
    "else:\n",
    "    print(\"the rectangle's area is\", sd1*sd2)"
   ]
  },
  {
   "cell_type": "code",
   "execution_count": 6,
   "metadata": {},
   "outputs": [
    {
     "data": {
      "text/plain": [
       "range(3, 11, 2)"
      ]
     },
     "execution_count": 6,
     "metadata": {},
     "output_type": "execute_result"
    }
   ],
   "source": [
    "range(3, 11, 2)"
   ]
  },
  {
   "cell_type": "code",
   "execution_count": 7,
   "metadata": {},
   "outputs": [
    {
     "data": {
      "text/plain": [
       "[3, 5, 7, 9]"
      ]
     },
     "execution_count": 7,
     "metadata": {},
     "output_type": "execute_result"
    }
   ],
   "source": [
    "list(range(3, 11, 2))"
   ]
  },
  {
   "cell_type": "code",
   "execution_count": 8,
   "metadata": {},
   "outputs": [
    {
     "data": {
      "text/plain": [
       "[0, 1, 2, 3, 4, 5, 6, 7, 8, 9]"
      ]
     },
     "execution_count": 8,
     "metadata": {},
     "output_type": "execute_result"
    }
   ],
   "source": [
    "[i for i in range(10)]"
   ]
  },
  {
   "cell_type": "code",
   "execution_count": 9,
   "metadata": {},
   "outputs": [
    {
     "data": {
      "text/plain": [
       "[1, 3, 5, 7, 9]"
      ]
     },
     "execution_count": 9,
     "metadata": {},
     "output_type": "execute_result"
    }
   ],
   "source": [
    "[i+1 for i in range(10) if i%2==0]"
   ]
  },
  {
   "cell_type": "code",
   "execution_count": 10,
   "metadata": {},
   "outputs": [
    {
     "data": {
      "text/plain": [
       "<generator object <genexpr> at 0x000001A268674890>"
      ]
     },
     "execution_count": 10,
     "metadata": {},
     "output_type": "execute_result"
    }
   ],
   "source": [
    "(i+1 for i in range(10) if i%2==0)"
   ]
  },
  {
   "cell_type": "code",
   "execution_count": 1,
   "metadata": {},
   "outputs": [
    {
     "name": "stdout",
     "output_type": "stream",
     "text": [
      "Enter the first number:0.3\n",
      "Invalid input!\n"
     ]
    }
   ],
   "source": [
    "try:\n",
    "    num1=int(input('Enter the first number:'))\n",
    "    num2=int(input('Enter the second number:'))\n",
    "    print(num1/num2)\n",
    "except(ValueError, ZeroDivisionError):\n",
    "    print('Invalid input!')"
   ]
  },
  {
   "cell_type": "code",
   "execution_count": 2,
   "metadata": {},
   "outputs": [
    {
     "name": "stdout",
     "output_type": "stream",
     "text": [
      "Enter the first number:3\n",
      "Enter the second number:0.6\n",
      "Something went wrong!\n",
      "invalid literal for int() with base 10: '0.6'\n"
     ]
    }
   ],
   "source": [
    "try:\n",
    "    num1=int(input('Enter the first number:'))\n",
    "    num2=int(input('Enter the second number:'))\n",
    "    print(num1/num2)\n",
    "except Exception as err:\n",
    "    print('Something went wrong!')\n",
    "    print(err)"
   ]
  },
  {
   "cell_type": "code",
   "execution_count": 3,
   "metadata": {},
   "outputs": [
    {
     "name": "stdout",
     "output_type": "stream",
     "text": [
      "Enter the first number:3\n",
      "Enter the second number:7\n",
      "0.42857142857142855\n",
      "Aha, everything is OK.\n"
     ]
    }
   ],
   "source": [
    "try:\n",
    "    num1=int(input('Enter the first number:'))\n",
    "    num2=int(input('Enter the second number:'))\n",
    "    print(num1/num2)\n",
    "except(ValueError, ZeroDivisionError):\n",
    "    print('Invalid input!')\n",
    "else:\n",
    "    print('Aha, everything is OK.')"
   ]
  },
  {
   "cell_type": "code",
   "execution_count": 4,
   "metadata": {},
   "outputs": [
    {
     "name": "stdout",
     "output_type": "stream",
     "text": [
      "Enter the first number:3\n",
      "Enter the second number:0.5\n",
      "Please input a digit!\n",
      "Enter the first number:6\n",
      "Enter the second number:9\n",
      "0.6666666666666666\n"
     ]
    }
   ],
   "source": [
    "while True:\n",
    "    try:\n",
    "        num1=int(input('Enter the first number:'))\n",
    "        num2=int(input('Enter the second number:'))\n",
    "        print(num1/num2)\n",
    "        break\n",
    "    except ValueError:\n",
    "        print('Please input a digit!')\n",
    "    except ZeroDivisionError:\n",
    "        print('The second number cannot be zero!')"
   ]
  },
  {
   "cell_type": "code",
   "execution_count": 5,
   "metadata": {},
   "outputs": [
    {
     "name": "stdout",
     "output_type": "stream",
     "text": [
      "Enter the first number:3\n",
      "Enter the second number:0.7\n",
      "invalid literal for int() with base 10: '0.7'\n",
      "It is a finally clause.\n",
      "0\n"
     ]
    }
   ],
   "source": [
    "def finallyTest():\n",
    "    try:\n",
    "        x=int(input('Enter the first number:'))\n",
    "        y=int(input('Enter the second number:'))\n",
    "        print(x/y)\n",
    "        return 1\n",
    "    except Exception as err:\n",
    "        print(err)\n",
    "        return 0\n",
    "    finally:\n",
    "        print('It is a finally clause.')\n",
    "result=finallyTest()\n",
    "print(result)"
   ]
  },
  {
   "cell_type": "code",
   "execution_count": 6,
   "metadata": {},
   "outputs": [
    {
     "data": {
      "text/plain": [
       "['H', 'e', 'l', 'l', 'o', ' ', 'w', 'o', 'r', 'l', 'd']"
      ]
     },
     "execution_count": 6,
     "metadata": {},
     "output_type": "execute_result"
    }
   ],
   "source": [
    "list('Hello world')"
   ]
  },
  {
   "cell_type": "code",
   "execution_count": 7,
   "metadata": {},
   "outputs": [
    {
     "data": {
      "text/plain": [
       "('H', 'e', 'l', 'l', 'o', ' ', 'w', 'o', 'r', 'l', 'd')"
      ]
     },
     "execution_count": 7,
     "metadata": {},
     "output_type": "execute_result"
    }
   ],
   "source": [
    "tuple('Hello world')"
   ]
  },
  {
   "cell_type": "code",
   "execution_count": 8,
   "metadata": {},
   "outputs": [
    {
     "data": {
      "text/plain": [
       "\"['H', 'e', 'l', 'l', 'o', ' ', 'w', 'o', 'r', 'l', 'd']\""
      ]
     },
     "execution_count": 8,
     "metadata": {},
     "output_type": "execute_result"
    }
   ],
   "source": [
    "str(['H', 'e', 'l', 'l', 'o', ' ', 'w', 'o', 'r', 'l', 'd'])"
   ]
  },
  {
   "cell_type": "code",
   "execution_count": 9,
   "metadata": {},
   "outputs": [
    {
     "ename": "TypeError",
     "evalue": "str() takes at most 3 arguments (11 given)",
     "output_type": "error",
     "traceback": [
      "\u001b[1;31m---------------------------------------------------------------------------\u001b[0m",
      "\u001b[1;31mTypeError\u001b[0m                                 Traceback (most recent call last)",
      "\u001b[1;32m<ipython-input-9-1c70a6faf36c>\u001b[0m in \u001b[0;36m<module>\u001b[1;34m\u001b[0m\n\u001b[1;32m----> 1\u001b[1;33m \u001b[0mstr\u001b[0m\u001b[1;33m(\u001b[0m\u001b[1;34m'H'\u001b[0m\u001b[1;33m,\u001b[0m \u001b[1;34m'e'\u001b[0m\u001b[1;33m,\u001b[0m \u001b[1;34m'l'\u001b[0m\u001b[1;33m,\u001b[0m \u001b[1;34m'l'\u001b[0m\u001b[1;33m,\u001b[0m \u001b[1;34m'o'\u001b[0m\u001b[1;33m,\u001b[0m \u001b[1;34m' '\u001b[0m\u001b[1;33m,\u001b[0m \u001b[1;34m'w'\u001b[0m\u001b[1;33m,\u001b[0m \u001b[1;34m'o'\u001b[0m\u001b[1;33m,\u001b[0m \u001b[1;34m'r'\u001b[0m\u001b[1;33m,\u001b[0m \u001b[1;34m'l'\u001b[0m\u001b[1;33m,\u001b[0m \u001b[1;34m'd'\u001b[0m\u001b[1;33m)\u001b[0m\u001b[1;33m\u001b[0m\u001b[1;33m\u001b[0m\u001b[0m\n\u001b[0m",
      "\u001b[1;31mTypeError\u001b[0m: str() takes at most 3 arguments (11 given)"
     ]
    }
   ],
   "source": [
    "str('H', 'e', 'l', 'l', 'o', ' ', 'w', 'o', 'r', 'l', 'd')"
   ]
  },
  {
   "cell_type": "code",
   "execution_count": 10,
   "metadata": {},
   "outputs": [
    {
     "data": {
      "text/plain": [
       "'3.14'"
      ]
     },
     "execution_count": 10,
     "metadata": {},
     "output_type": "execute_result"
    }
   ],
   "source": [
    "str(3.14)"
   ]
  },
  {
   "cell_type": "code",
   "execution_count": 11,
   "metadata": {},
   "outputs": [
    {
     "data": {
      "text/plain": [
       "<enumerate at 0x24cc8de2800>"
      ]
     },
     "execution_count": 11,
     "metadata": {},
     "output_type": "execute_result"
    }
   ],
   "source": [
    "enumerate('Hello world')"
   ]
  },
  {
   "cell_type": "code",
   "execution_count": 12,
   "metadata": {},
   "outputs": [
    {
     "data": {
      "text/plain": [
       "[(0, 'H'),\n",
       " (1, 'e'),\n",
       " (2, 'l'),\n",
       " (3, 'l'),\n",
       " (4, 'o'),\n",
       " (5, ' '),\n",
       " (6, 'w'),\n",
       " (7, 'o'),\n",
       " (8, 'r'),\n",
       " (9, 'l'),\n",
       " (10, 'd')]"
      ]
     },
     "execution_count": 12,
     "metadata": {},
     "output_type": "execute_result"
    }
   ],
   "source": [
    "list(enumerate('Hello world'))"
   ]
  },
  {
   "cell_type": "code",
   "execution_count": 13,
   "metadata": {},
   "outputs": [
    {
     "data": {
      "text/plain": [
       "[('H',),\n",
       " ('e',),\n",
       " ('l',),\n",
       " ('l',),\n",
       " ('o',),\n",
       " (' ',),\n",
       " ('w',),\n",
       " ('o',),\n",
       " ('r',),\n",
       " ('l',),\n",
       " ('d',)]"
      ]
     },
     "execution_count": 13,
     "metadata": {},
     "output_type": "execute_result"
    }
   ],
   "source": [
    "list(zip('Hello world'))"
   ]
  },
  {
   "cell_type": "code",
   "execution_count": 14,
   "metadata": {},
   "outputs": [
    {
     "name": "stdout",
     "output_type": "stream",
     "text": [
      "{:<8d}{:8s}{:8s}.format(i, cCode[i], cPrice[i])\n",
      "{:<8d}{:8s}{:8s}.format(i, cCode[i], cPrice[i])\n",
      "{:<8d}{:8s}{:8s}.format(i, cCode[i], cPrice[i])\n",
      "{:<8d}{:8s}{:8s}.format(i, cCode[i], cPrice[i])\n",
      "{:<8d}{:8s}{:8s}.format(i, cCode[i], cPrice[i])\n"
     ]
    }
   ],
   "source": [
    "cCode = ['AXP', 'BA', 'CAT', 'CSCO', 'CVX']\n",
    "cPrince = ['78.51', '184.76', '96.39', '33.71', '106.09']\n",
    "for i in range(5):\n",
    "    print('{:<8d}{:8s}{:8s}.format(i, cCode[i], cPrice[i])')"
   ]
  },
  {
   "cell_type": "code",
   "execution_count": 15,
   "metadata": {},
   "outputs": [
    {
     "name": "stdout",
     "output_type": "stream",
     "text": [
      "I get 32{}!\n"
     ]
    }
   ],
   "source": [
    "print('I get {:d}{{}}!'.format(32))"
   ]
  },
  {
   "cell_type": "code",
   "execution_count": 17,
   "metadata": {},
   "outputs": [
    {
     "name": "stdout",
     "output_type": "stream",
     "text": [
      "0       AXP     78.51   \n",
      "1       BA      184.76  \n",
      "2       CAT     96.39   \n",
      "3       CSCO    33.71   \n",
      "4       CVX     106.09  \n"
     ]
    }
   ],
   "source": [
    "cCode = ['AXP', 'BA', 'CAT', 'CSCO', 'CVX']\n",
    "cPrice = ['78.51', '184.76', '96.39', '33.71', '106.09']\n",
    "for i in range(5):\n",
    "    print('{:<8d}{:8s}{:8s}'.format(i, cCode[i], cPrice[i]))"
   ]
  },
  {
   "cell_type": "code",
   "execution_count": 22,
   "metadata": {},
   "outputs": [
    {
     "data": {
      "text/plain": [
       "[0, 1, 2, 3, 4, 5, 6, 7, 8, 9]"
      ]
     },
     "execution_count": 22,
     "metadata": {},
     "output_type": "execute_result"
    }
   ],
   "source": [
    "[x for x in range(10)]"
   ]
  },
  {
   "cell_type": "code",
   "execution_count": 23,
   "metadata": {},
   "outputs": [
    {
     "data": {
      "text/plain": [
       "[0, 1, 4, 9, 16, 25, 36, 49, 64, 81]"
      ]
     },
     "execution_count": 23,
     "metadata": {},
     "output_type": "execute_result"
    }
   ],
   "source": [
    "[x ** 2 for x in range(10)]"
   ]
  },
  {
   "cell_type": "code",
   "execution_count": 24,
   "metadata": {},
   "outputs": [
    {
     "data": {
      "text/plain": [
       "[0, 1, 4, 9, 16, 25, 36, 49]"
      ]
     },
     "execution_count": 24,
     "metadata": {},
     "output_type": "execute_result"
    }
   ],
   "source": [
    "[x ** 2 for x in range(10) if x**2<50]"
   ]
  },
  {
   "cell_type": "code",
   "execution_count": 25,
   "metadata": {},
   "outputs": [
    {
     "data": {
      "text/plain": [
       "[(1, 1), (1, 2), (2, 1), (2, 2)]"
      ]
     },
     "execution_count": 25,
     "metadata": {},
     "output_type": "execute_result"
    }
   ],
   "source": [
    "[(x+1, y+1) for x in range(2) for y in range(2)]"
   ]
  },
  {
   "cell_type": "code",
   "execution_count": null,
   "metadata": {},
   "outputs": [],
   "source": []
  }
 ],
 "metadata": {
  "kernelspec": {
   "display_name": "Python 3",
   "language": "python",
   "name": "python3"
  },
  "language_info": {
   "codemirror_mode": {
    "name": "ipython",
    "version": 3
   },
   "file_extension": ".py",
   "mimetype": "text/x-python",
   "name": "python",
   "nbconvert_exporter": "python",
   "pygments_lexer": "ipython3",
   "version": "3.7.0"
  }
 },
 "nbformat": 4,
 "nbformat_minor": 4
}
