{
 "cells": [
  {
   "cell_type": "code",
   "execution_count": 1,
   "id": "9d480775",
   "metadata": {},
   "outputs": [],
   "source": [
    "import re\n",
    "import os"
   ]
  },
  {
   "cell_type": "code",
   "execution_count": 12,
   "id": "361461f4",
   "metadata": {},
   "outputs": [],
   "source": [
    "def preprocessing(filename):\n",
    "    \n",
    "    file = open(filename)\n",
    "    content = file.read()\n",
    "    word = re.compile(r'[^a-zA-Z]')\n",
    "    content = word.sub('', content)\n",
    "    content = content.lower()\n",
    "    \n",
    "    return content"
   ]
  },
  {
   "cell_type": "code",
   "execution_count": 3,
   "id": "feaa82c7",
   "metadata": {},
   "outputs": [],
   "source": [
    "def generate_n_gram(content, n):\n",
    "    \n",
    "    n_gram = []\n",
    "    for i in range(len(content)-n+1):\n",
    "        n_gram.append(content[i:i+n])\n",
    "    return n_gram"
   ]
  },
  {
   "cell_type": "code",
   "execution_count": 4,
   "id": "863ecd47",
   "metadata": {},
   "outputs": [],
   "source": [
    "def rolling_hashing(n_gram, Base, n):\n",
    "    \n",
    "    hashlist = []\n",
    "    hash = 0\n",
    "    initial = n_gram[0]\n",
    "    # 初始化：Base基数一般设置为素数\n",
    "    # initial：第一个分片的hash值需要手动计算\n",
    "    \n",
    "    for i in range(n):\n",
    "        hash += ord(initial[i])*(Base**(n-i-1))\n",
    "    hashlist.append(hash)\n",
    "    \n",
    "    for i in range(1, len(n_gram)):\n",
    "        pre = n_gram[i-1]\n",
    "        present = n_gram[i]\n",
    "        hash = (hash-ord(pre[0])*(Base**(n-1)))*Base+ord(present[n-1])\n",
    "        hashlist.append(hash)\n",
    "    \n",
    "    return hashlist"
   ]
  },
  {
   "cell_type": "code",
   "execution_count": 5,
   "id": "c745d346",
   "metadata": {},
   "outputs": [],
   "source": [
    "def winnowing(hashlist, t, n):\n",
    "    window = t-n+1\n",
    "    minValue = minPos = 0\n",
    "    fingerprint = {}\n",
    "    for i in range(len(hashlist)-window+1):\n",
    "        temp = hashlist[i:i+window]\n",
    "        minValue = temp[0]\n",
    "        minPos = 0\n",
    "        for j in range(window):\n",
    "            if temp[j] <= minValue:\n",
    "                minValue = temp[j]\n",
    "                minPos = j\n",
    "        if (i+minPos) not in fingerprint.keys():\n",
    "            fingerprint[i+minPos]=minValue\n",
    "    return fingerprint"
   ]
  },
  {
   "cell_type": "code",
   "execution_count": 6,
   "id": "86da7c96",
   "metadata": {},
   "outputs": [],
   "source": [
    "def comparison(fingerprint_1, fingerprint_2):\n",
    "    count = 0\n",
    "    size = min(len(fingerprint_1), len(fingerprint_2))\n",
    "    for i in fingerprint_1.values():\n",
    "        for j in fingerprint_2.values():\n",
    "            if (i==j):\n",
    "                count += 1\n",
    "                break\n",
    "    return count/size"
   ]
  },
  {
   "cell_type": "code",
   "execution_count": 13,
   "id": "059b9e90",
   "metadata": {},
   "outputs": [
    {
     "name": "stdout",
     "output_type": "stream",
     "text": [
      "分片大小为5\n",
      "检测阈值为9\n",
      "相似度：\n",
      "0.020202020202020204\n",
      "ooo\n"
     ]
    }
   ],
   "source": [
    "if __name__ == '__main__':\n",
    "    print('分片大小为5')\n",
    "    print('检测阈值为9')\n",
    "    dirpath = os.getcwd()\n",
    "    path_1 = dirpath + \"\\\\test_1.txt\"\n",
    "    path_2 = dirpath + \"\\\\test_2.txt\"\n",
    "    fingerprint_1 = winnowing(rolling_hashing(generate_n_gram(preprocessing(path_1), 5), 17, 5), 9, 5)\n",
    "    fingerprint_2 = winnowing(rolling_hashing(generate_n_gram(preprocessing(path_2), 5), 17, 5), 9, 5)\n",
    "    print(\"相似度：\")\n",
    "    print(comparison(fingerprint_1, fingerprint_2))\n",
    "    input()"
   ]
  }
 ],
 "metadata": {
  "kernelspec": {
   "display_name": "Python 3",
   "language": "python",
   "name": "python3"
  },
  "language_info": {
   "codemirror_mode": {
    "name": "ipython",
    "version": 3
   },
   "file_extension": ".py",
   "mimetype": "text/x-python",
   "name": "python",
   "nbconvert_exporter": "python",
   "pygments_lexer": "ipython3",
   "version": "3.7.0"
  }
 },
 "nbformat": 4,
 "nbformat_minor": 5
}
