{
 "cells": [
  {
   "cell_type": "markdown",
   "id": "d519d63a",
   "metadata": {},
   "source": [
    "## 2.3 Pytorch中的自动微分"
   ]
  },
  {
   "cell_type": "markdown",
   "id": "88d267be",
   "metadata": {},
   "source": [
    "> 在torch中的torch.autograd模块，提供了实现任意标量值函数自动求导的类和函数。针对一个张量只需要设置参数requires_grad=True，通过相关计算即可输出其在传播过程中的梯度（导数）信息"
   ]
  },
  {
   "cell_type": "code",
   "execution_count": 11,
   "id": "a4fddff8",
   "metadata": {},
   "outputs": [
    {
     "name": "stdout",
     "output_type": "stream",
     "text": [
      "x.requires_grad: True\n",
      "y.requires_grad: True\n",
      "x: tensor([[1., 2.],\n",
      "        [3., 4.]], requires_grad=True)\n",
      "y: tensor(54., grad_fn=<SumBackward0>)\n"
     ]
    }
   ],
   "source": [
    "import torch\n",
    "x = torch.tensor([[1.0, 2.0], [3.0, 4.0]], requires_grad=True) # 默认requires_grad=False\n",
    "y = torch.sum(x**2+2*x+1)\n",
    "print(\"x.requires_grad:\", x.requires_grad)\n",
    "print(\"y.requires_grad:\", y.requires_grad)\n",
    "print(\"x:\", x)\n",
    "print(\"y:\", y)"
   ]
  },
  {
   "cell_type": "code",
   "execution_count": 12,
   "id": "20170b3e",
   "metadata": {},
   "outputs": [
    {
     "data": {
      "text/plain": [
       "tensor([[ 4.,  6.],\n",
       "        [ 8., 10.]])"
      ]
     },
     "execution_count": 12,
     "metadata": {},
     "output_type": "execute_result"
    }
   ],
   "source": [
    "# 计算y在x上的梯度\n",
    "y.backward()\n",
    "x.grad"
   ]
  },
  {
   "cell_type": "markdown",
   "id": "06122d8f",
   "metadata": {},
   "source": [
    "> 上面的程序首先使用torch.tensor()生成一个矩阵$x$，并且使用参数requires_grad=True来指定矩阵$x$可以求导，然后根据公式$y=sum(x^2+2x+1)$计算出标量$y$<p> 从输出的x.requires_grad和y.requires_grad的结构中可以发现，这两个变量都是可以求导的<p> 下面通过y.backward()来计算$y$在$x$的每个元素上的导数"
   ]
  }
 ],
 "metadata": {
  "kernelspec": {
   "display_name": "Python 3 (ipykernel)",
   "language": "python",
   "name": "python3"
  },
  "language_info": {
   "codemirror_mode": {
    "name": "ipython",
    "version": 3
   },
   "file_extension": ".py",
   "mimetype": "text/x-python",
   "name": "python",
   "nbconvert_exporter": "python",
   "pygments_lexer": "ipython3",
   "version": "3.9.12"
  }
 },
 "nbformat": 4,
 "nbformat_minor": 5
}
