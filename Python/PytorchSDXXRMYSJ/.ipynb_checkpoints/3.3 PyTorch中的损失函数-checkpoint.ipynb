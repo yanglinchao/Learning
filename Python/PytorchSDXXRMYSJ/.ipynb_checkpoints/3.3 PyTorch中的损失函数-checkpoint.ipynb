{
 "cells": [
  {
   "cell_type": "markdown",
   "id": "3d57a5ff",
   "metadata": {},
   "source": [
    "|类|算法名称|适用问题类型|\n",
    "|:----:|:----:|:----:|\n",
    "|torch.nn.L1Loss()|平均绝对值误差损失|回归|\n",
    "|torch.nn.MSELoss()|均方误差损失|回归|\n",
    "|torch.nn.CrossEntropyLoss()|交叉熵损失|多分类|\n",
    "|torch.nn.NLLLoss()|负对数似然函数损失|多分类|\n",
    "|torch.nn.NLLLoss2d()|图片负对数似然函数损失|图像分割|\n",
    "|torch.nn.KLDivLoss()|KL散度损失|回归|\n",
    "|torch.nn.BCELoss()|二分类交叉熵损失|二分类|\n",
    "|torch.nn.MarginRankingLoss()|评价相似度的损失|a|\n",
    "|torch.nn.MultiLabelMarginLoss()|多标签分类的损失|多标签分类|\n",
    "|torch.nn.SmoothL1Loss()|平滑的L1损失|回归|\n",
    "|torch.nn.SoftMarginLoss()|多标签二分类问题的损失|多标签二分类|"
   ]
  }
 ],
 "metadata": {
  "kernelspec": {
   "display_name": "Python 3 (ipykernel)",
   "language": "python",
   "name": "python3"
  },
  "language_info": {
   "codemirror_mode": {
    "name": "ipython",
    "version": 3
   },
   "file_extension": ".py",
   "mimetype": "text/x-python",
   "name": "python",
   "nbconvert_exporter": "python",
   "pygments_lexer": "ipython3",
   "version": "3.9.12"
  },
  "toc": {
   "base_numbering": 1,
   "nav_menu": {},
   "number_sections": false,
   "sideBar": true,
   "skip_h1_title": false,
   "title_cell": "Table of Contents",
   "title_sidebar": "Contents",
   "toc_cell": false,
   "toc_position": {},
   "toc_section_display": true,
   "toc_window_display": true
  },
  "varInspector": {
   "cols": {
    "lenName": 16,
    "lenType": 16,
    "lenVar": 40
   },
   "kernels_config": {
    "python": {
     "delete_cmd_postfix": "",
     "delete_cmd_prefix": "del ",
     "library": "var_list.py",
     "varRefreshCmd": "print(var_dic_list())"
    },
    "r": {
     "delete_cmd_postfix": ") ",
     "delete_cmd_prefix": "rm(",
     "library": "var_list.r",
     "varRefreshCmd": "cat(var_dic_list()) "
    }
   },
   "types_to_exclude": [
    "module",
    "function",
    "builtin_function_or_method",
    "instance",
    "_Feature"
   ],
   "window_display": false
  }
 },
 "nbformat": 4,
 "nbformat_minor": 5
}
