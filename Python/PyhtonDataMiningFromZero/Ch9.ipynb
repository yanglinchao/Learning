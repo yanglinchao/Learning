{
 "cells": [
  {
   "cell_type": "markdown",
   "metadata": {},
   "source": [
    "### Logistic模型构建"
   ]
  },
  {
   "cell_type": "code",
   "execution_count": 4,
   "metadata": {},
   "outputs": [
    {
     "name": "stdout",
     "output_type": "stream",
     "text": [
      "        date                time username  activity  ...  acceleration_z  gyro_x  gyro_y  gyro_z\n",
      "0  2017/6/30  13:51:15:847724020   viktor         0  ...         -0.0076 -0.0590  0.0325 -2.9296\n",
      "1  2017/6/30  13:51:16:246945023   viktor         0  ...         -0.2344 -0.1757  0.0208  0.1269\n",
      "2  2017/6/30  13:51:16:446233987   viktor         0  ...          0.0722 -0.9105  0.1063 -2.4367\n",
      "\n",
      "[3 rows x 10 columns]\n"
     ]
    }
   ],
   "source": [
    "import pandas as pd\n",
    "import numpy as np\n",
    "from sklearn import linear_model\n",
    "from sklearn import model_selection\n",
    "sports = pd.read_csv(\"C:/Users/ylc/GitHub/Learning/Python/PyhtonDataMiningFromZero/Run or Walk.csv\")\n",
    "print(sports[0:3])"
   ]
  },
  {
   "cell_type": "code",
   "execution_count": 5,
   "metadata": {},
   "outputs": [],
   "source": [
    "predictors = sports.columns[4:] # 提取出所有自变量名称\n",
    "X = sports.loc[:, predictors] # 构建自变量矩阵\n",
    "y = sports.activity # 提取y变量值\n",
    "X_train, X_test, y_train, y_test = model_selection.train_test_split(X, y, test_size=0.25, random_state=1234) # 构建训练集和测试集"
   ]
  },
  {
   "cell_type": "code",
   "execution_count": 6,
   "metadata": {},
   "outputs": [
    {
     "name": "stdout",
     "output_type": "stream",
     "text": [
      "[4.36637441] [[ 0.48695898  6.87517973 -2.44872468 -0.01385936 -0.16085022  0.13389695]]\n"
     ]
    }
   ],
   "source": [
    "# 训练模型\n",
    "sklearn_logistic = linear_model.LogisticRegression()\n",
    "sklearn_logistic.fit(X_train, y_train)\n",
    "# 返回模型各个参数\n",
    "print(sklearn_logistic.intercept_, sklearn_logistic.coef_)"
   ]
  },
  {
   "cell_type": "markdown",
   "metadata": {},
   "source": [
    "### 模型预测"
   ]
  },
  {
   "cell_type": "code",
   "execution_count": 8,
   "metadata": {},
   "outputs": [
    {
     "data": {
      "text/plain": [
       "0    12119\n",
       "1    10028\n",
       "dtype: int64"
      ]
     },
     "execution_count": 8,
     "metadata": {},
     "output_type": "execute_result"
    }
   ],
   "source": [
    "sklearn_predict = sklearn_logistic.predict(X_test) # 模型预测\n",
    "pd.Series(sklearn_predict).value_counts() # 预测结果统计"
   ]
  },
  {
   "cell_type": "markdown",
   "metadata": {},
   "source": [
    "### 模型评估"
   ]
  },
  {
   "cell_type": "markdown",
   "metadata": {},
   "source": [
    "#### 混淆矩阵"
   ]
  },
  {
   "cell_type": "code",
   "execution_count": 10,
   "metadata": {},
   "outputs": [
    {
     "data": {
      "text/plain": [
       "array([[9969, 1122],\n",
       "       [2150, 8906]], dtype=int64)"
      ]
     },
     "execution_count": 10,
     "metadata": {},
     "output_type": "execute_result"
    }
   ],
   "source": [
    "from sklearn import metrics\n",
    "cm = metrics.confusion_matrix(y_test, sklearn_predict, labels=[0, 1]) # 混淆矩阵\n",
    "cm"
   ]
  },
  {
   "cell_type": "markdown",
   "metadata": {},
   "source": [
    "#### 评估指标"
   ]
  },
  {
   "cell_type": "code",
   "execution_count": 17,
   "metadata": {},
   "outputs": [
    {
     "name": "stdout",
     "output_type": "stream",
     "text": [
      "模型准确率（Accuracy）为85.23%：\n",
      "模型精确率（Precision）为88.81%：\n",
      "模型召回率（Recall）为80.55%：\n",
      "模型F1-score为84.48%：\n"
     ]
    }
   ],
   "source": [
    "Accuracy = metrics.accuracy_score(y_test, sklearn_predict)\n",
    "Precision = metrics.precision_score(y_test, sklearn_predict)\n",
    "Recall = metrics.recall_score(y_test, sklearn_predict)\n",
    "F1_score = metrics.f1_score(y_test, sklearn_predict)\n",
    "print('模型准确率（Accuracy）为%.2f%%：'%(Accuracy*100))\n",
    "print('模型精确率（Precision）为%.2f%%：'%(Precision*100))\n",
    "print('模型召回率（Recall）为%.2f%%：'%(Recall*100))\n",
    "print('模型F1-score为%.2f%%：'%(F1_score*100))"
   ]
  },
  {
   "cell_type": "markdown",
   "metadata": {},
   "source": [
    "#### ROC曲线"
   ]
  },
  {
   "cell_type": "code",
   "execution_count": 19,
   "metadata": {},
   "outputs": [
    {
     "data": {
      "image/png": "[encoded data removed]",
      "text/plain": [
       "<Figure size 432x288 with 1 Axes>"
      ]
     },
     "metadata": {
      "needs_background": "light"
     },
     "output_type": "display_data"
    }
   ],
   "source": [
    "import matplotlib.pyplot as plt\n",
    "y_score = sklearn_logistic.predict_proba(X_test)[:, 1] # y得分为模型预测正例的概率\n",
    "fpr, tpr, threshold = metrics.roc_curve(y_test, y_score) # 计算不同阈值下，fpr和tpr的组合值\n",
    "roc_auc = metrics.auc(fpr, tpr) # 计算AUC值\n",
    "\n",
    "plt.stackplot(fpr, tpr, color='steelblue', alpha=0.5, edgecolor='black') # 绘制面积图\n",
    "plt.plot(fpr, tpr, color='black', lw=1) # 添加ROC曲线轮廓\n",
    "plt.plot([0, 1], [0, 1], color='red', linestyle='--') # 添加对角线\n",
    "plt.text(0.5, 0.3, 'ROC Curve (area = %0.2f)' % roc_auc) # 添加文本信息\n",
    "plt.xlabel('1-Specificity')\n",
    "plt.ylabel('Sensitivity')\n",
    "plt.show()"
   ]
  },
  {
   "cell_type": "markdown",
   "metadata": {},
   "source": [
    "### statsmodels中的LogisticRegression"
   ]
  },
  {
   "cell_type": "code",
   "execution_count": 35,
   "metadata": {},
   "outputs": [
    {
     "name": "stdout",
     "output_type": "stream",
     "text": [
      "Optimization terminated successfully.\n",
      "         Current function value: 0.324875\n",
      "         Iterations 8\n",
      "                           Logit Regression Results                           \n",
      "==============================================================================\n",
      "Dep. Variable:               activity   No. Observations:                66441\n",
      "Model:                          Logit   Df Residuals:                    66434\n",
      "Method:                           MLE   Df Model:                            6\n",
      "Date:                Fri, 06 May 2022   Pseudo R-squ.:                  0.5313\n",
      "Time:                        15:25:02   Log-Likelihood:                -21585.\n",
      "converged:                       True   LL-Null:                       -46053.\n",
      "Covariance Type:            nonrobust   LLR p-value:                     0.000\n",
      "==================================================================================\n",
      "                     coef    std err          z      P>|z|      [0.025      0.975]\n",
      "----------------------------------------------------------------------------------\n",
      "const              4.3885      0.049     90.296      0.000       4.293       4.484\n",
      "acceleration_x     0.4896      0.018     27.444      0.000       0.455       0.525\n",
      "acceleration_y     6.9066      0.064    107.246      0.000       6.780       7.033\n",
      "acceleration_z    -2.4596      0.036    -68.594      0.000      -2.530      -2.389\n",
      "gyro_x            -0.0147      0.012     -1.278      0.201      -0.037       0.008\n",
      "gyro_y            -0.1612      0.011    -14.071      0.000      -0.184      -0.139\n",
      "gyro_z             0.1347      0.008     17.342      0.000       0.119       0.150\n",
      "==================================================================================\n"
     ]
    }
   ],
   "source": [
    "import statsmodels.api as sm\n",
    "X_train2 = sm.add_constant(X_train)\n",
    "X_test2 = sm.add_constant(X_test)\n",
    "sm_logistic = sm.Logit(y_train, X_train2).fit() # 拟合Logistic模型\n",
    "print(sm_logistic.summary()) # 模型详细信息"
   ]
  },
  {
   "cell_type": "code",
   "execution_count": 36,
   "metadata": {},
   "outputs": [
    {
     "data": {
      "text/plain": [
       "array([[9967, 1124],\n",
       "       [2149, 8907]], dtype=int64)"
      ]
     },
     "execution_count": 36,
     "metadata": {},
     "output_type": "execute_result"
    }
   ],
   "source": [
    "sm_y_probability = sm_logistic.predict(X_test2) # 模型在测试集上的预测\n",
    "sm_pred_y = np.where(sm_y_probability >= 0.5, 1, 0) # 根据概率值，将观测进行分类，以0.5作为阈值\n",
    "cm = metrics.confusion_matrix(y_test, sm_pred_y, labels=[0, 1]) # 混淆矩阵\n",
    "cm"
   ]
  }
 ],
 "metadata": {
  "kernelspec": {
   "display_name": "Python 3",
   "language": "python",
   "name": "python3"
  },
  "language_info": {
   "codemirror_mode": {
    "name": "ipython",
    "version": 3
   },
   "file_extension": ".py",
   "mimetype": "text/x-python",
   "name": "python",
   "nbconvert_exporter": "python",
   "pygments_lexer": "ipython3",
   "version": "3.8.5"
  },
  "varInspector": {
   "cols": {
    "lenName": 16,
    "lenType": 16,
    "lenVar": 40
   },
   "kernels_config": {
    "python": {
     "delete_cmd_postfix": "",
     "delete_cmd_prefix": "del ",
     "library": "var_list.py",
     "varRefreshCmd": "print(var_dic_list())"
    },
    "r": {
     "delete_cmd_postfix": ") ",
     "delete_cmd_prefix": "rm(",
     "library": "var_list.r",
     "varRefreshCmd": "cat(var_dic_list()) "
    }
   },
   "types_to_exclude": [
    "module",
    "function",
    "builtin_function_or_method",
    "instance",
    "_Feature"
   ],
   "window_display": false
  }
 },
 "nbformat": 4,
 "nbformat_minor": 4
}
