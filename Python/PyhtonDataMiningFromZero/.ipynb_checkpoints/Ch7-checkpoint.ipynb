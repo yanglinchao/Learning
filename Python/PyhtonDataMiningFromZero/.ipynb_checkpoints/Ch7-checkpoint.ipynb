{
 "cells": [
  {
   "cell_type": "markdown",
   "metadata": {},
   "source": [
    "### 一元线性回归"
   ]
  },
  {
   "cell_type": "code",
   "execution_count": 13,
   "metadata": {
    "scrolled": false
   },
   "outputs": [
    {
     "data": {
      "image/png": "[encoded data removed]",
      "text/plain": [
       "<Figure size 432x288 with 1 Axes>"
      ]
     },
     "metadata": {
      "needs_background": "light"
     },
     "output_type": "display_data"
    }
   ],
   "source": [
    "import pandas as pd\n",
    "import matplotlib.pyplot as plt\n",
    "income = pd.read_csv(\"C:/Users/ylc/GitHub/Learning/Python/PyhtonDataMiningFromZero/Salary_Data.csv\")\n",
    "plt.scatter(x=income.YearsExperience, y=income.Salary)\n",
    "plt.xlabel(\"YearsExperience\")\n",
    "plt.ylabel(\"Sealary\")\n",
    "plt.show()"
   ]
  },
  {
   "cell_type": "code",
   "execution_count": 14,
   "metadata": {
    "scrolled": false
   },
   "outputs": [
    {
     "data": {
      "text/html": [
       "<table class=\"simpletable\">\n",
       "<caption>OLS Regression Results</caption>\n",
       "<tr>\n",
       "  <th>Dep. Variable:</th>         <td>Salary</td>      <th>  R-squared:         </th> <td>   0.957</td>\n",
       "</tr>\n",
       "<tr>\n",
       "  <th>Model:</th>                   <td>OLS</td>       <th>  Adj. R-squared:    </th> <td>   0.955</td>\n",
       "</tr>\n",
       "<tr>\n",
       "  <th>Method:</th>             <td>Least Squares</td>  <th>  F-statistic:       </th> <td>   622.5</td>\n",
       "</tr>\n",
       "<tr>\n",
       "  <th>Date:</th>             <td>Tue, 03 May 2022</td> <th>  Prob (F-statistic):</th> <td>1.14e-20</td>\n",
       "</tr>\n",
       "<tr>\n",
       "  <th>Time:</th>                 <td>11:30:36</td>     <th>  Log-Likelihood:    </th> <td> -301.44</td>\n",
       "</tr>\n",
       "<tr>\n",
       "  <th>No. Observations:</th>      <td>    30</td>      <th>  AIC:               </th> <td>   606.9</td>\n",
       "</tr>\n",
       "<tr>\n",
       "  <th>Df Residuals:</th>          <td>    28</td>      <th>  BIC:               </th> <td>   609.7</td>\n",
       "</tr>\n",
       "<tr>\n",
       "  <th>Df Model:</th>              <td>     1</td>      <th>                     </th>     <td> </td>   \n",
       "</tr>\n",
       "<tr>\n",
       "  <th>Covariance Type:</th>      <td>nonrobust</td>    <th>                     </th>     <td> </td>   \n",
       "</tr>\n",
       "</table>\n",
       "<table class=\"simpletable\">\n",
       "<tr>\n",
       "         <td></td>            <th>coef</th>     <th>std err</th>      <th>t</th>      <th>P>|t|</th>  <th>[0.025</th>    <th>0.975]</th>  \n",
       "</tr>\n",
       "<tr>\n",
       "  <th>Intercept</th>       <td> 2.579e+04</td> <td> 2273.053</td> <td>   11.347</td> <td> 0.000</td> <td> 2.11e+04</td> <td> 3.04e+04</td>\n",
       "</tr>\n",
       "<tr>\n",
       "  <th>YearsExperience</th> <td> 9449.9623</td> <td>  378.755</td> <td>   24.950</td> <td> 0.000</td> <td> 8674.119</td> <td> 1.02e+04</td>\n",
       "</tr>\n",
       "</table>\n",
       "<table class=\"simpletable\">\n",
       "<tr>\n",
       "  <th>Omnibus:</th>       <td> 2.140</td> <th>  Durbin-Watson:     </th> <td>   1.648</td>\n",
       "</tr>\n",
       "<tr>\n",
       "  <th>Prob(Omnibus):</th> <td> 0.343</td> <th>  Jarque-Bera (JB):  </th> <td>   1.569</td>\n",
       "</tr>\n",
       "<tr>\n",
       "  <th>Skew:</th>          <td> 0.363</td> <th>  Prob(JB):          </th> <td>   0.456</td>\n",
       "</tr>\n",
       "<tr>\n",
       "  <th>Kurtosis:</th>      <td> 2.147</td> <th>  Cond. No.          </th> <td>    13.2</td>\n",
       "</tr>\n",
       "</table><br/><br/>Notes:<br/>[1] Standard Errors assume that the covariance matrix of the errors is correctly specified."
      ],
      "text/plain": [
       "<class 'statsmodels.iolib.summary.Summary'>\n",
       "\"\"\"\n",
       "                            OLS Regression Results                            \n",
       "==============================================================================\n",
       "Dep. Variable:                 Salary   R-squared:                       0.957\n",
       "Model:                            OLS   Adj. R-squared:                  0.955\n",
       "Method:                 Least Squares   F-statistic:                     622.5\n",
       "Date:                Tue, 03 May 2022   Prob (F-statistic):           1.14e-20\n",
       "Time:                        11:30:36   Log-Likelihood:                -301.44\n",
       "No. Observations:                  30   AIC:                             606.9\n",
       "Df Residuals:                      28   BIC:                             609.7\n",
       "Df Model:                           1                                         \n",
       "Covariance Type:            nonrobust                                         \n",
       "===================================================================================\n",
       "                      coef    std err          t      P>|t|      [0.025      0.975]\n",
       "-----------------------------------------------------------------------------------\n",
       "Intercept        2.579e+04   2273.053     11.347      0.000    2.11e+04    3.04e+04\n",
       "YearsExperience  9449.9623    378.755     24.950      0.000    8674.119    1.02e+04\n",
       "==============================================================================\n",
       "Omnibus:                        2.140   Durbin-Watson:                   1.648\n",
       "Prob(Omnibus):                  0.343   Jarque-Bera (JB):                1.569\n",
       "Skew:                           0.363   Prob(JB):                        0.456\n",
       "Kurtosis:                       2.147   Cond. No.                         13.2\n",
       "==============================================================================\n",
       "\n",
       "Notes:\n",
       "[1] Standard Errors assume that the covariance matrix of the errors is correctly specified.\n",
       "\"\"\""
      ]
     },
     "execution_count": 14,
     "metadata": {},
     "output_type": "execute_result"
    }
   ],
   "source": [
    "import statsmodels.api as sm\n",
    "fit = sm.formula.ols('Salary ~ YearsExperience', data=income).fit() # 构建回归模型\n",
    "fit.summary() # 返回模型参数"
   ]
  },
  {
   "cell_type": "code",
   "execution_count": 20,
   "metadata": {
    "scrolled": true
   },
   "outputs": [
    {
     "data": {
      "image/png": "[encoded data removed]",
      "text/plain": [
       "<Figure size 432x288 with 1 Axes>"
      ]
     },
     "metadata": {
      "needs_background": "light"
     },
     "output_type": "display_data"
    }
   ],
   "source": [
    "income['pred'] = fit.predict(exog = income.YearsExperience) # 预测\n",
    "plt.scatter(x=income.YearsExperience, y=income.Salary, color='steelblue', label='True')\n",
    "plt.scatter(x=income.YearsExperience, y=income.pred, color='indianred', label='Pred')\n",
    "plt.xlabel(\"YearsExperience\")\n",
    "plt.ylabel(\"Sealary\")\n",
    "plt.show()"
   ]
  },
  {
   "cell_type": "markdown",
   "metadata": {},
   "source": [
    "### 多元线性回归"
   ]
  },
  {
   "cell_type": "code",
   "execution_count": 56,
   "metadata": {},
   "outputs": [
    {
     "name": "stdout",
     "output_type": "stream",
     "text": [
      "    RD_Spend  Administration  Marketing_Spend       State     Profit\n",
      "0  165349.20       136897.80        471784.10    New York  192261.83\n",
      "1  162597.70       151377.59        443898.53  California  191792.06\n",
      "2  153441.51       101145.55        407934.54     Florida  191050.39\n"
     ]
    }
   ],
   "source": [
    "import pandas as pd\n",
    "Profit = pd.read_excel(\"C:/Users/ylc/GitHub/Learning/Python/PyhtonDataMiningFromZero/Predict to Profit.xlsx\")\n",
    "print(Profit[0:3])"
   ]
  },
  {
   "cell_type": "code",
   "execution_count": 57,
   "metadata": {
    "scrolled": false
   },
   "outputs": [
    {
     "data": {
      "text/html": [
       "<table class=\"simpletable\">\n",
       "<caption>OLS Regression Results</caption>\n",
       "<tr>\n",
       "  <th>Dep. Variable:</th>         <td>Profit</td>      <th>  R-squared:         </th> <td>   0.964</td>\n",
       "</tr>\n",
       "<tr>\n",
       "  <th>Model:</th>                   <td>OLS</td>       <th>  Adj. R-squared:    </th> <td>   0.958</td>\n",
       "</tr>\n",
       "<tr>\n",
       "  <th>Method:</th>             <td>Least Squares</td>  <th>  F-statistic:       </th> <td>   174.6</td>\n",
       "</tr>\n",
       "<tr>\n",
       "  <th>Date:</th>             <td>Tue, 03 May 2022</td> <th>  Prob (F-statistic):</th> <td>9.74e-23</td>\n",
       "</tr>\n",
       "<tr>\n",
       "  <th>Time:</th>                 <td>14:32:26</td>     <th>  Log-Likelihood:    </th> <td> -401.20</td>\n",
       "</tr>\n",
       "<tr>\n",
       "  <th>No. Observations:</th>      <td>    39</td>      <th>  AIC:               </th> <td>   814.4</td>\n",
       "</tr>\n",
       "<tr>\n",
       "  <th>Df Residuals:</th>          <td>    33</td>      <th>  BIC:               </th> <td>   824.4</td>\n",
       "</tr>\n",
       "<tr>\n",
       "  <th>Df Model:</th>              <td>     5</td>      <th>                     </th>     <td> </td>   \n",
       "</tr>\n",
       "<tr>\n",
       "  <th>Covariance Type:</th>      <td>nonrobust</td>    <th>                     </th>     <td> </td>   \n",
       "</tr>\n",
       "</table>\n",
       "<table class=\"simpletable\">\n",
       "<tr>\n",
       "            <td></td>              <th>coef</th>     <th>std err</th>      <th>t</th>      <th>P>|t|</th>  <th>[0.025</th>    <th>0.975]</th>  \n",
       "</tr>\n",
       "<tr>\n",
       "  <th>Intercept</th>            <td> 5.858e+04</td> <td> 6690.704</td> <td>    8.756</td> <td> 0.000</td> <td>  4.5e+04</td> <td> 7.22e+04</td>\n",
       "</tr>\n",
       "<tr>\n",
       "  <th>C(State)[T.Florida]</th>  <td>  927.3944</td> <td> 3084.857</td> <td>    0.301</td> <td> 0.766</td> <td>-5348.795</td> <td> 7203.584</td>\n",
       "</tr>\n",
       "<tr>\n",
       "  <th>C(State)[T.New York]</th> <td> -513.4683</td> <td> 3043.160</td> <td>   -0.169</td> <td> 0.867</td> <td>-6704.824</td> <td> 5677.887</td>\n",
       "</tr>\n",
       "<tr>\n",
       "  <th>RD_Spend</th>             <td>    0.8035</td> <td>    0.040</td> <td>   19.988</td> <td> 0.000</td> <td>    0.722</td> <td>    0.885</td>\n",
       "</tr>\n",
       "<tr>\n",
       "  <th>Administration</th>       <td>   -0.0578</td> <td>    0.051</td> <td>   -1.133</td> <td> 0.265</td> <td>   -0.162</td> <td>    0.046</td>\n",
       "</tr>\n",
       "<tr>\n",
       "  <th>Marketing_Spend</th>      <td>    0.0138</td> <td>    0.015</td> <td>    0.930</td> <td> 0.359</td> <td>   -0.016</td> <td>    0.044</td>\n",
       "</tr>\n",
       "</table>\n",
       "<table class=\"simpletable\">\n",
       "<tr>\n",
       "  <th>Omnibus:</th>       <td> 1.721</td> <th>  Durbin-Watson:     </th> <td>   1.896</td>\n",
       "</tr>\n",
       "<tr>\n",
       "  <th>Prob(Omnibus):</th> <td> 0.423</td> <th>  Jarque-Bera (JB):  </th> <td>   1.148</td>\n",
       "</tr>\n",
       "<tr>\n",
       "  <th>Skew:</th>          <td> 0.096</td> <th>  Prob(JB):          </th> <td>   0.563</td>\n",
       "</tr>\n",
       "<tr>\n",
       "  <th>Kurtosis:</th>      <td> 2.182</td> <th>  Cond. No.          </th> <td>1.56e+06</td>\n",
       "</tr>\n",
       "</table><br/><br/>Notes:<br/>[1] Standard Errors assume that the covariance matrix of the errors is correctly specified.<br/>[2] The condition number is large, 1.56e+06. This might indicate that there are<br/>strong multicollinearity or other numerical problems."
      ],
      "text/plain": [
       "<class 'statsmodels.iolib.summary.Summary'>\n",
       "\"\"\"\n",
       "                            OLS Regression Results                            \n",
       "==============================================================================\n",
       "Dep. Variable:                 Profit   R-squared:                       0.964\n",
       "Model:                            OLS   Adj. R-squared:                  0.958\n",
       "Method:                 Least Squares   F-statistic:                     174.6\n",
       "Date:                Tue, 03 May 2022   Prob (F-statistic):           9.74e-23\n",
       "Time:                        14:32:26   Log-Likelihood:                -401.20\n",
       "No. Observations:                  39   AIC:                             814.4\n",
       "Df Residuals:                      33   BIC:                             824.4\n",
       "Df Model:                           5                                         \n",
       "Covariance Type:            nonrobust                                         \n",
       "========================================================================================\n",
       "                           coef    std err          t      P>|t|      [0.025      0.975]\n",
       "----------------------------------------------------------------------------------------\n",
       "Intercept             5.858e+04   6690.704      8.756      0.000     4.5e+04    7.22e+04\n",
       "C(State)[T.Florida]    927.3944   3084.857      0.301      0.766   -5348.795    7203.584\n",
       "C(State)[T.New York]  -513.4683   3043.160     -0.169      0.867   -6704.824    5677.887\n",
       "RD_Spend                 0.8035      0.040     19.988      0.000       0.722       0.885\n",
       "Administration          -0.0578      0.051     -1.133      0.265      -0.162       0.046\n",
       "Marketing_Spend          0.0138      0.015      0.930      0.359      -0.016       0.044\n",
       "==============================================================================\n",
       "Omnibus:                        1.721   Durbin-Watson:                   1.896\n",
       "Prob(Omnibus):                  0.423   Jarque-Bera (JB):                1.148\n",
       "Skew:                           0.096   Prob(JB):                        0.563\n",
       "Kurtosis:                       2.182   Cond. No.                     1.56e+06\n",
       "==============================================================================\n",
       "\n",
       "Notes:\n",
       "[1] Standard Errors assume that the covariance matrix of the errors is correctly specified.\n",
       "[2] The condition number is large, 1.56e+06. This might indicate that there are\n",
       "strong multicollinearity or other numerical problems.\n",
       "\"\"\""
      ]
     },
     "execution_count": 57,
     "metadata": {},
     "output_type": "execute_result"
    }
   ],
   "source": [
    "from sklearn import model_selection\n",
    "import statsmodels.api as sm\n",
    "train, test = model_selection.train_test_split(Profit, test_size=0.2, random_state=1234) # 抽取训练集和测试集\n",
    "model = sm.formula.ols('Profit ~ RD_Spend+Administration+Marketing_Spend+C(State)', data=train).fit() # 训练多元线性回归模型\n",
    "model.summary()"
   ]
  },
  {
   "cell_type": "code",
   "execution_count": 74,
   "metadata": {},
   "outputs": [
    {
     "name": "stdout",
     "output_type": "stream",
     "text": [
      "对比预测值和实际值的差异：\n",
      "          True           Pred\n",
      "8   152211.77  150621.345802\n",
      "48   35673.41   55513.218079\n",
      "14  132602.65  150369.022458\n",
      "42   71498.49   74057.015562\n",
      "29  101004.64  103413.378282\n",
      "44   65200.33   67844.850378\n",
      "4   166187.94  173454.059692\n",
      "31   97483.56   99580.888894\n",
      "13  134307.35  128147.138397\n",
      "18  124266.90  130693.433835\n"
     ]
    }
   ],
   "source": [
    "test_X = test.drop(labels='Profit', axis=1) # 删除test数据集中Profit变量，用剩下的自变量进行预测\n",
    "pred = model.predict(exog=test_X) # 进行预测\n",
    "result = pd.DataFrame({'True':test.Profit, 'Pred':pred})\n",
    "print(\"对比预测值和实际值的差异：\\n\", result)"
   ]
  },
  {
   "cell_type": "markdown",
   "metadata": {},
   "source": [
    "### 正态性检验"
   ]
  },
  {
   "cell_type": "markdown",
   "metadata": {},
   "source": [
    "#### 直方图法"
   ]
  },
  {
   "cell_type": "code",
   "execution_count": 7,
   "metadata": {},
   "outputs": [
    {
     "name": "stderr",
     "output_type": "stream",
     "text": [
      "C:\\ProgramData\\Anaconda3\\lib\\site-packages\\seaborn\\distributions.py:2551: FutureWarning: `distplot` is a deprecated function and will be removed in a future version. Please adapt your code to use either `displot` (a figure-level function with similar flexibility) or `histplot` (an axes-level function for histograms).\n",
      "  warnings.warn(msg, FutureWarning)\n"
     ]
    },
    {
     "data": {
      "image/png": "[encoded data removed]",
      "text/plain": [
       "<Figure size 432x288 with 1 Axes>"
      ]
     },
     "metadata": {
      "needs_background": "light"
     },
     "output_type": "display_data"
    }
   ],
   "source": [
    "import scipy.stats as stats\n",
    "import matplotlib.pyplot as plt\n",
    "import seaborn as sns\n",
    "import pandas as pd\n",
    "Profit = pd.read_excel(\"C:/Users/ylc/GitHub/Learning/Python/PyhtonDataMiningFromZero/Predict to Profit.xlsx\")\n",
    "plt.rcParams['font.sans-serif'] = ['Microsoft YaHei']\n",
    "plt.rcParams['axes.unicode_minus'] = False\n",
    "sns.distplot(a=Profit.Profit, bins=10, fit=stats.norm, norm_hist=True,\n",
    "            hist_kws={'color':'steelblue', 'edgecolor':'black'},\n",
    "            kde_kws={'color':'black', 'linestyle':'--', 'label':'核密度曲线'},\n",
    "            fit_kws={'color':'red', 'linestyle':':', 'label':'正态密度曲线'})\n",
    "plt.legend()\n",
    "plt.show()"
   ]
  },
  {
   "cell_type": "markdown",
   "metadata": {},
   "source": [
    "#### QQ图"
   ]
  },
  {
   "cell_type": "code",
   "execution_count": 12,
   "metadata": {},
   "outputs": [
    {
     "data": {
      "image/png": "[encoded data removed]",
      "text/plain": [
       "<Figure size 432x288 with 1 Axes>"
      ]
     },
     "metadata": {
      "needs_background": "light"
     },
     "output_type": "display_data"
    }
   ],
   "source": [
    "import scipy.stats as stats\n",
    "import matplotlib.pyplot as plt\n",
    "import statsmodels.api as sm\n",
    "import pandas as pd\n",
    "Profit = pd.read_excel(\"C:/Users/ylc/GitHub/Learning/Python/PyhtonDataMiningFromZero/Predict to Profit.xlsx\")\n",
    "plt.rcParams['font.sans-serif'] = ['Microsoft YaHei']\n",
    "plt.rcParams['axes.unicode_minus'] = False\n",
    "pp_qq_plot = sm.ProbPlot(Profit.Profit)\n",
    "pp_qq_plot.qqplot(line='q') # 绘制QQ图\n",
    "plt.title('Q-Q图')\n",
    "plt.show()"
   ]
  },
  {
   "cell_type": "markdown",
   "metadata": {},
   "source": [
    "#### shapiro检验"
   ]
  },
  {
   "cell_type": "code",
   "execution_count": 13,
   "metadata": {},
   "outputs": [
    {
     "data": {
      "text/plain": [
       "ShapiroResult(statistic=0.9793398380279541, pvalue=0.537902295589447)"
      ]
     },
     "execution_count": 13,
     "metadata": {},
     "output_type": "execute_result"
    }
   ],
   "source": [
    "import scipy.stats as stats\n",
    "import pandas as pd\n",
    "Profit = pd.read_excel(\"C:/Users/ylc/GitHub/Learning/Python/PyhtonDataMiningFromZero/Predict to Profit.xlsx\")\n",
    "stats.shapiro(Profit.Profit) # Shapiro检验"
   ]
  },
  {
   "cell_type": "markdown",
   "metadata": {},
   "source": [
    "> 无法拒绝服从正态分布的原假设"
   ]
  },
  {
   "cell_type": "markdown",
   "metadata": {},
   "source": [
    "#### K-S检验"
   ]
  },
  {
   "cell_type": "code",
   "execution_count": 14,
   "metadata": {
    "scrolled": true
   },
   "outputs": [
    {
     "name": "stdout",
     "output_type": "stream",
     "text": [
      "KstestResult(statistic=0.005550308430001483, pvalue=0.9159447727683971)\n",
      "KstestResult(statistic=0.05972593889887273, pvalue=1.8862544893023312e-31)\n"
     ]
    }
   ],
   "source": [
    "import scipy.stats as stats\n",
    "import numpy as np\n",
    "# 生成正态分布和均匀分布随机数\n",
    "rnorm = np.random.normal(loc=5, scale=2, size=10000)\n",
    "runif = np.random.uniform(low=1, high=100, size=10000)\n",
    "# 生态性检验\n",
    "KS_Test_norm = stats.kstest(rvs=rnorm, args=(rnorm.mean(), rnorm.std()), cdf='norm')\n",
    "KS_Test_unif = stats.kstest(rvs=runif, args=(runif.mean(), runif.std()), cdf='norm')\n",
    "print(KS_Test_norm)\n",
    "print(KS_Test_unif)"
   ]
  },
  {
   "cell_type": "markdown",
   "metadata": {},
   "source": [
    "> 对于正态分布数据的检验无法拒绝服从正态分布的原假设，对于均匀分布数据的检验拒绝了服从正态分布的原假设"
   ]
  },
  {
   "cell_type": "markdown",
   "metadata": {},
   "source": [
    "### 多重共线性"
   ]
  },
  {
   "cell_type": "markdown",
   "metadata": {},
   "source": [
    "#### VIF"
   ]
  },
  {
   "cell_type": "code",
   "execution_count": 11,
   "metadata": {},
   "outputs": [
    {
     "data": {
      "text/html": [
       "<div>\n",
       "<style scoped>\n",
       "    .dataframe tbody tr th:only-of-type {\n",
       "        vertical-align: middle;\n",
       "    }\n",
       "\n",
       "    .dataframe tbody tr th {\n",
       "        vertical-align: top;\n",
       "    }\n",
       "\n",
       "    .dataframe thead th {\n",
       "        text-align: right;\n",
       "    }\n",
       "</style>\n",
       "<table border=\"1\" class=\"dataframe\">\n",
       "  <thead>\n",
       "    <tr style=\"text-align: right;\">\n",
       "      <th></th>\n",
       "      <th>features</th>\n",
       "      <th>VIF Factor</th>\n",
       "    </tr>\n",
       "  </thead>\n",
       "  <tbody>\n",
       "    <tr>\n",
       "      <th>0</th>\n",
       "      <td>const</td>\n",
       "      <td>25.038136</td>\n",
       "    </tr>\n",
       "    <tr>\n",
       "      <th>1</th>\n",
       "      <td>RD_Spend</td>\n",
       "      <td>2.377754</td>\n",
       "    </tr>\n",
       "    <tr>\n",
       "      <th>2</th>\n",
       "      <td>Administration</td>\n",
       "      <td>1.175172</td>\n",
       "    </tr>\n",
       "    <tr>\n",
       "      <th>3</th>\n",
       "      <td>Marketing_Spend</td>\n",
       "      <td>2.239957</td>\n",
       "    </tr>\n",
       "  </tbody>\n",
       "</table>\n",
       "</div>"
      ],
      "text/plain": [
       "          features  VIF Factor\n",
       "0            const   25.038136\n",
       "1         RD_Spend    2.377754\n",
       "2   Administration    1.175172\n",
       "3  Marketing_Spend    2.239957"
      ]
     },
     "execution_count": 11,
     "metadata": {},
     "output_type": "execute_result"
    }
   ],
   "source": [
    "import pandas as pd\n",
    "import statsmodels.api as sm\n",
    "from statsmodels.stats.outliers_influence import variance_inflation_factor\n",
    "Profit = pd.read_excel(\"C:/Users/ylc/GitHub/Learning/Python/PyhtonDataMiningFromZero/Predict to Profit.xlsx\")\n",
    "X = sm.add_constant(Profit.loc[:, ['RD_Spend', 'Administration', 'Marketing_Spend']]) # 自变量（包含常数项）\n",
    "# 构造空的数据框，用于存储VIF值\n",
    "vif = pd.DataFrame()\n",
    "vif[\"features\"] = X.columns\n",
    "vif[\"VIF Factor\"] = [variance_inflation_factor(X.values, i) for i in range(X.shape[1])]\n",
    "vif # 返回vif值"
   ]
  },
  {
   "cell_type": "markdown",
   "metadata": {},
   "source": [
    "### 异常值检验"
   ]
  },
  {
   "cell_type": "code",
   "execution_count": 15,
   "metadata": {},
   "outputs": [
    {
     "data": {
      "text/html": [
       "<div>\n",
       "<style scoped>\n",
       "    .dataframe tbody tr th:only-of-type {\n",
       "        vertical-align: middle;\n",
       "    }\n",
       "\n",
       "    .dataframe tbody tr th {\n",
       "        vertical-align: top;\n",
       "    }\n",
       "\n",
       "    .dataframe thead th {\n",
       "        text-align: right;\n",
       "    }\n",
       "</style>\n",
       "<table border=\"1\" class=\"dataframe\">\n",
       "  <thead>\n",
       "    <tr style=\"text-align: right;\">\n",
       "      <th></th>\n",
       "      <th>RD_Spend</th>\n",
       "      <th>Administration</th>\n",
       "      <th>Marketing_Spend</th>\n",
       "      <th>State</th>\n",
       "      <th>Profit</th>\n",
       "      <th>leverage</th>\n",
       "      <th>dffits</th>\n",
       "      <th>resid_stu</th>\n",
       "      <th>cook</th>\n",
       "    </tr>\n",
       "  </thead>\n",
       "  <tbody>\n",
       "    <tr>\n",
       "      <th>0</th>\n",
       "      <td>165349.20</td>\n",
       "      <td>136897.80</td>\n",
       "      <td>471784.10</td>\n",
       "      <td>New York</td>\n",
       "      <td>192261.83</td>\n",
       "      <td>0.127543</td>\n",
       "      <td>0.080702</td>\n",
       "      <td>0.211069</td>\n",
       "      <td>0.001664</td>\n",
       "    </tr>\n",
       "    <tr>\n",
       "      <th>1</th>\n",
       "      <td>162597.70</td>\n",
       "      <td>151377.59</td>\n",
       "      <td>443898.53</td>\n",
       "      <td>California</td>\n",
       "      <td>191792.06</td>\n",
       "      <td>0.125702</td>\n",
       "      <td>0.220891</td>\n",
       "      <td>0.582555</td>\n",
       "      <td>0.012380</td>\n",
       "    </tr>\n",
       "    <tr>\n",
       "      <th>2</th>\n",
       "      <td>153441.51</td>\n",
       "      <td>101145.55</td>\n",
       "      <td>407934.54</td>\n",
       "      <td>Florida</td>\n",
       "      <td>191050.39</td>\n",
       "      <td>0.112301</td>\n",
       "      <td>0.516219</td>\n",
       "      <td>1.451360</td>\n",
       "      <td>0.065022</td>\n",
       "    </tr>\n",
       "    <tr>\n",
       "      <th>3</th>\n",
       "      <td>144372.41</td>\n",
       "      <td>118671.85</td>\n",
       "      <td>383199.62</td>\n",
       "      <td>New York</td>\n",
       "      <td>182901.99</td>\n",
       "      <td>0.076064</td>\n",
       "      <td>0.406415</td>\n",
       "      <td>1.416453</td>\n",
       "      <td>0.040390</td>\n",
       "    </tr>\n",
       "    <tr>\n",
       "      <th>4</th>\n",
       "      <td>142107.34</td>\n",
       "      <td>91391.77</td>\n",
       "      <td>366168.42</td>\n",
       "      <td>Florida</td>\n",
       "      <td>166187.94</td>\n",
       "      <td>0.111680</td>\n",
       "      <td>-0.225341</td>\n",
       "      <td>-0.635531</td>\n",
       "      <td>0.012865</td>\n",
       "    </tr>\n",
       "  </tbody>\n",
       "</table>\n",
       "</div>"
      ],
      "text/plain": [
       "    RD_Spend  Administration  Marketing_Spend       State     Profit  leverage    dffits  resid_stu      cook\n",
       "0  165349.20       136897.80        471784.10    New York  192261.83  0.127543  0.080702   0.211069  0.001664\n",
       "1  162597.70       151377.59        443898.53  California  191792.06  0.125702  0.220891   0.582555  0.012380\n",
       "2  153441.51       101145.55        407934.54     Florida  191050.39  0.112301  0.516219   1.451360  0.065022\n",
       "3  144372.41       118671.85        383199.62    New York  182901.99  0.076064  0.406415   1.416453  0.040390\n",
       "4  142107.34        91391.77        366168.42     Florida  166187.94  0.111680 -0.225341  -0.635531  0.012865"
      ]
     },
     "execution_count": 15,
     "metadata": {},
     "output_type": "execute_result"
    }
   ],
   "source": [
    "import pandas as pd\n",
    "import statsmodels.api as sm\n",
    "Profit = pd.read_excel(\"C:/Users/ylc/GitHub/Learning/Python/PyhtonDataMiningFromZero/Predict to Profit.xlsx\")\n",
    "model = sm.formula.ols('Profit ~ RD_Spend+Administration+Marketing_Spend', data=Profit).fit() # 训练多元线性回归模型\n",
    "\n",
    "outliers = model.get_influence() # 异常值检验\n",
    "leverage = outliers.hat_matrix_diag # 高杠杆值点（帽子矩阵）\n",
    "dffits = outliers.dffits[0] # dffits值\n",
    "resid_stu = outliers.resid_studentized_external # 学生化残差\n",
    "cook = outliers.cooks_distance[0] # cook距离\n",
    "\n",
    "# 合并各种异常值检验的统计量\n",
    "contat = pd.concat([pd.Series(leverage, name='leverage'),\n",
    "                   pd.Series(dffits, name='dffits'),\n",
    "                   pd.Series(resid_stu, name='resid_stu'),\n",
    "                   pd.Series(cook, name='cook')], axis=1)\n",
    "Profit.index = range(Profit.shape[0]) # 重设train数据的行索引\n",
    "profit_outliers = pd.concat([Profit, contat], axis=1) # 将异常值检验统计量与数据集合并\n",
    "profit_outliers.head()"
   ]
  },
  {
   "cell_type": "markdown",
   "metadata": {},
   "source": [
    "### 方差齐性检验"
   ]
  },
  {
   "cell_type": "markdown",
   "metadata": {},
   "source": [
    "#### 图形法"
   ]
  },
  {
   "cell_type": "code",
   "execution_count": 16,
   "metadata": {},
   "outputs": [
    {
     "data": {
      "image/png": "[encoded data removed]",
      "text/plain": [
       "<Figure size 432x288 with 2 Axes>"
      ]
     },
     "metadata": {
      "needs_background": "light"
     },
     "output_type": "display_data"
    }
   ],
   "source": [
    "import matplotlib.pyplot as plt\n",
    "import pandas as pd\n",
    "Profit = pd.read_excel(\"C:/Users/ylc/GitHub/Learning/Python/PyhtonDataMiningFromZero/Predict to Profit.xlsx\")\n",
    "model = sm.formula.ols('Profit ~ RD_Spend+Administration+Marketing_Spend', data=Profit).fit() # 训练多元线性回归模型\n",
    "\n",
    "ax1 = plt.subplot2grid(shape=(2, 1), loc=(0, 0)) # 设置第一张子图的位置\n",
    "ax1.scatter(Profit.RD_Spend, (model.resid-model.resid.mean())/model.resid.std()) # 绘制散点图\n",
    "ax1.hlines(y=0, xmin=Profit.RD_Spend.min(), xmax=Profit.RD_Spend.max(), color='red', linestyles='--') # 绘制水平参考线\n",
    "ax1.set_xlabel('RD_Spend')\n",
    "ax1.set_ylabel('Std_Residual')\n",
    "\n",
    "ax2 = plt.subplot2grid(shape=(2, 1), loc=(1,0)) # 设置第二张子图的位置\n",
    "ax2.scatter(Profit.Marketing_Spend, (model.resid-model.resid.mean())/model.resid.std()) # 绘制散点图\n",
    "ax2.hlines(y=0, xmin=Profit.Marketing_Spend.min(), xmax=Profit.Marketing_Spend.max(), color='red', linestyle='--')\n",
    "ax2.set_xlabel('Marketing_Spend')\n",
    "ax2.set_ylabel('Std_Residual')\n",
    "\n",
    "plt.subplots_adjust(hspace=0.6, wspace=0.3) # 调整子图之间的水平间距和高度间距\n",
    "plt.show()"
   ]
  },
  {
   "cell_type": "markdown",
   "metadata": {},
   "source": [
    "> 标准化残差并没有随自变量的变动而呈现喇叭形，所有的散点几乎均匀地分布在参考线附近<br> 所以可以说明模型的残差项满足方差齐性的假设"
   ]
  },
  {
   "cell_type": "markdown",
   "metadata": {},
   "source": [
    "#### BP检验"
   ]
  },
  {
   "cell_type": "code",
   "execution_count": 18,
   "metadata": {},
   "outputs": [
    {
     "data": {
      "text/plain": [
       "(0.8184841652728102,\n",
       " 0.8450409476972327,\n",
       " 0.25481270703905895,\n",
       " 0.8574972599675053)"
      ]
     },
     "execution_count": 18,
     "metadata": {},
     "output_type": "execute_result"
    }
   ],
   "source": [
    "sm.stats.diagnostic.het_breuschpagan(model.resid, exog_het=model.model.exog)"
   ]
  },
  {
   "cell_type": "markdown",
   "metadata": {},
   "source": [
    "> 第一个统计量为LM统计量<br> 第二个统计量是LM对应的概率p值<br> 第三个统计量为F值，用于检验残差平方项与自变量之间是否独立<br> 第四个统计量为F对应的概率p值"
   ]
  },
  {
   "cell_type": "code",
   "execution_count": null,
   "metadata": {},
   "outputs": [],
   "source": []
  }
 ],
 "metadata": {
  "kernelspec": {
   "display_name": "Python 3",
   "language": "python",
   "name": "python3"
  },
  "language_info": {
   "codemirror_mode": {
    "name": "ipython",
    "version": 3
   },
   "file_extension": ".py",
   "mimetype": "text/x-python",
   "name": "python",
   "nbconvert_exporter": "python",
   "pygments_lexer": "ipython3",
   "version": "3.8.5"
  },
  "varInspector": {
   "cols": {
    "lenName": 16,
    "lenType": 16,
    "lenVar": 40
   },
   "kernels_config": {
    "python": {
     "delete_cmd_postfix": "",
     "delete_cmd_prefix": "del ",
     "library": "var_list.py",
     "varRefreshCmd": "print(var_dic_list())"
    },
    "r": {
     "delete_cmd_postfix": ") ",
     "delete_cmd_prefix": "rm(",
     "library": "var_list.r",
     "varRefreshCmd": "cat(var_dic_list()) "
    }
   },
   "position": {
    "height": "268.835px",
    "left": "1042.73px",
    "right": "20px",
    "top": "121px",
    "width": "350px"
   },
   "types_to_exclude": [
    "module",
    "function",
    "builtin_function_or_method",
    "instance",
    "_Feature"
   ],
   "window_display": false
  }
 },
 "nbformat": 4,
 "nbformat_minor": 4
}
