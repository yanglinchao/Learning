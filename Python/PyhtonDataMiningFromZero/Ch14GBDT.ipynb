{
 "cells": [
  {
   "cell_type": "markdown",
   "metadata": {},
   "source": [
    "## AdaBoost算法"
   ]
  },
  {
   "cell_type": "markdown",
   "metadata": {},
   "source": [
    "#### 数据准备"
   ]
  },
  {
   "cell_type": "code",
   "execution_count": 2,
   "metadata": {},
   "outputs": [
    {
     "data": {
      "image/png": "[encoded data removed]",
      "text/plain": [
       "<Figure size 432x288 with 1 Axes>"
      ]
     },
     "metadata": {},
     "output_type": "display_data"
    }
   ],
   "source": [
    "import pandas as pd\n",
    "import matplotlib.pyplot as plt\n",
    "default = pd.read_excel(\"C:/Users/ylc/GitHub/Learning/Python/PyhtonDataMiningFromZero/default of credit card.xls\")\n",
    "plt.axes(aspect = 'equal') # 为确保绘制的饼图为圆形\n",
    "plt.rcParams['font.sans-serif'] = ['Microsoft YaHei']\n",
    "plt.rcParams['axes.unicode_minus'] = False\n",
    "counts = default.y.value_counts() # 统计客户是否违约的频数\n",
    "plt.pie(x=counts, labels=pd.Series(counts.index).map({0:'不违约', 1:'违约'}), autopct='%.1f%%')\n",
    "plt.show()"
   ]
  },
  {
   "cell_type": "markdown",
   "metadata": {},
   "source": [
    "> 总体来说，两个类别比例不算失衡（一般而言，超过9:1，则认为失衡）"
   ]
  },
  {
   "cell_type": "markdown",
   "metadata": {},
   "source": [
    "#### 模型初步构建"
   ]
  },
  {
   "cell_type": "code",
   "execution_count": 5,
   "metadata": {},
   "outputs": [
    {
     "name": "stdout",
     "output_type": "stream",
     "text": [
      "模型的评估报告：\n",
      "               precision    recall  f1-score   support\n",
      "\n",
      "           0       0.83      0.96      0.89      5800\n",
      "           1       0.68      0.32      0.44      1700\n",
      "\n",
      "    accuracy                           0.81      7500\n",
      "   macro avg       0.75      0.64      0.66      7500\n",
      "weighted avg       0.80      0.81      0.79      7500\n",
      "\n"
     ]
    }
   ],
   "source": [
    "from sklearn import model_selection\n",
    "from sklearn import ensemble\n",
    "from sklearn import metrics\n",
    "X = default.drop(['ID', 'y'], axis=1)\n",
    "y = default.y\n",
    "X_train, X_test, y_train, y_test = model_selection.train_test_split(X, y, test_size=0.25, random_state=1234)\n",
    "\n",
    "AdaBoost1 = ensemble.AdaBoostClassifier() # 构建AdaBoost算法\n",
    "AdaBoost1.fit(X_train, y_train) # 算法拟合\n",
    "pred1 = AdaBoost1.predict(X_test) # 模型预测\n",
    "print('模型的评估报告：\\n', metrics.classification_report(y_test, pred1))"
   ]
  },
  {
   "cell_type": "markdown",
   "metadata": {},
   "source": [
    "> 模型表现一般，考虑通过变量选择和参数优化对模型进行优化"
   ]
  },
  {
   "cell_type": "markdown",
   "metadata": {},
   "source": [
    "#### 选择建模变量"
   ]
  },
  {
   "cell_type": "code",
   "execution_count": 7,
   "metadata": {},
   "outputs": [
    {
     "data": {
      "image/png": "[encoded data removed]",
      "text/plain": [
       "<Figure size 432x288 with 1 Axes>"
      ]
     },
     "metadata": {
      "needs_background": "light"
     },
     "output_type": "display_data"
    }
   ],
   "source": [
    "# 变量重要性排序\n",
    "importance = pd.Series(AdaBoost1.feature_importances_, index=X.columns)\n",
    "importance.sort_values().plot(kind='barh')\n",
    "plt.show()"
   ]
  },
  {
   "cell_type": "markdown",
   "metadata": {},
   "source": [
    "> 可以直接发现重要性较高的变量，接下来选择这些变量建模"
   ]
  },
  {
   "cell_type": "code",
   "execution_count": 9,
   "metadata": {},
   "outputs": [],
   "source": [
    "predictors = list(importance[importance>0.02].index) # 取出重要性比较高的自变量建模"
   ]
  },
  {
   "cell_type": "markdown",
   "metadata": {},
   "source": [
    "#### 最佳参数选择"
   ]
  },
  {
   "cell_type": "code",
   "execution_count": 12,
   "metadata": {},
   "outputs": [
    {
     "name": "stdout",
     "output_type": "stream",
     "text": [
      "Fitting 5 folds for each of 4 candidates, totalling 20 fits\n"
     ]
    },
    {
     "name": "stderr",
     "output_type": "stream",
     "text": [
      "[Parallel(n_jobs=6)]: Using backend LokyBackend with 6 concurrent workers.\n",
      "[Parallel(n_jobs=6)]: Done  20 out of  20 | elapsed:   11.4s finished\n"
     ]
    },
    {
     "data": {
      "text/plain": [
       "({'base_estimator__max_depth': 3}, 0.7416229772876299)"
      ]
     },
     "execution_count": 12,
     "metadata": {},
     "output_type": "execute_result"
    }
   ],
   "source": [
    "# 通过网格搜索法选择基础模型所对应的合理参数组合\n",
    "# 对基础模型CART调参\n",
    "from sklearn.model_selection import GridSearchCV\n",
    "from sklearn.tree import DecisionTreeClassifier\n",
    "max_depth = [3, 4, 5, 6]\n",
    "params1 = {'base_estimator__max_depth':max_depth}\n",
    "base_model = GridSearchCV(estimator=ensemble.AdaBoostClassifier(base_estimator=DecisionTreeClassifier()), \n",
    "                          param_grid=params1, scoring='roc_auc', cv=5, n_jobs=6, verbose=1)\n",
    "base_model.fit(X_train[predictors], y_train)\n",
    "# 返回参数的最佳组合和对应的AUC值\n",
    "base_model.best_params_, base_model.best_score_"
   ]
  },
  {
   "cell_type": "markdown",
   "metadata": {},
   "source": [
    "> 根据结果显示，经过5重交叉验证的训练和测试后，对于基础模型CART来说，最大树深度选择为3层比较合理<br> 在对AdaBoost算法做交叉验证时，有两层参数需要调优，一个是基础模型的参数，即DecisionTreeClassifier类；另一个是提升树模型的参数，即AdaBoostClassifier类<br> 在对基础模型调参时，参数字典params1中的键必须以\"base_estimator__\"开头，因为该参数是嵌在AdaBoostClassifier类下的DecisionTreeClassifier类中"
   ]
  },
  {
   "cell_type": "code",
   "execution_count": 15,
   "metadata": {},
   "outputs": [
    {
     "name": "stdout",
     "output_type": "stream",
     "text": [
      "Fitting 5 folds for each of 12 candidates, totalling 60 fits\n"
     ]
    },
    {
     "name": "stderr",
     "output_type": "stream",
     "text": [
      "[Parallel(n_jobs=6)]: Using backend LokyBackend with 6 concurrent workers.\n",
      "[Parallel(n_jobs=6)]: Done  38 tasks      | elapsed:   54.9s\n",
      "[Parallel(n_jobs=6)]: Done  60 out of  60 | elapsed:  1.5min finished\n"
     ]
    },
    {
     "data": {
      "text/plain": [
       "({'learning_rate': 0.05, 'n_estimators': 100}, 0.7695623633772114)"
      ]
     },
     "execution_count": 15,
     "metadata": {},
     "output_type": "execute_result"
    }
   ],
   "source": [
    "# 对AdaBoost算法进行调优\n",
    "from sklearn.model_selection import GridSearchCV\n",
    "n_estimators = [100, 200, 300]\n",
    "learning_rate = [0.01, 0.05, 0.1, 0.2]\n",
    "params2 = {'n_estimators':n_estimators, 'learning_rate':learning_rate}\n",
    "adaboost = GridSearchCV(estimator=ensemble.AdaBoostClassifier(base_estimator=DecisionTreeClassifier(max_depth=3)),\n",
    "                       param_grid=params2, scoring='roc_auc', cv=5, n_jobs=6, verbose=1)\n",
    "adaboost.fit(X_train[predictors], y_train)\n",
    "# 返回参数的最佳组合和对应AUC值\n",
    "adaboost.best_params_, adaboost.best_score_"
   ]
  },
  {
   "cell_type": "markdown",
   "metadata": {},
   "source": [
    "> 经过5重交叉验证后，得知AdaBoost算法的最佳基础模型个数为100、学习率为0.05"
   ]
  },
  {
   "cell_type": "markdown",
   "metadata": {},
   "source": [
    "#### 最佳模型构建"
   ]
  },
  {
   "cell_type": "code",
   "execution_count": 16,
   "metadata": {},
   "outputs": [
    {
     "data": {
      "text/plain": [
       "AdaBoostClassifier(algorithm='SAMME.R',\n",
       "                   base_estimator=DecisionTreeClassifier(ccp_alpha=0.0,\n",
       "                                                         class_weight=None,\n",
       "                                                         criterion='gini',\n",
       "                                                         max_depth=3,\n",
       "                                                         max_features=None,\n",
       "                                                         max_leaf_nodes=None,\n",
       "                                                         min_impurity_decrease=0.0,\n",
       "                                                         min_impurity_split=None,\n",
       "                                                         min_samples_leaf=1,\n",
       "                                                         min_samples_split=2,\n",
       "                                                         min_weight_fraction_leaf=0.0,\n",
       "                                                         presort='deprecated',\n",
       "                                                         random_state=None,\n",
       "                                                         splitter='best'),\n",
       "                   learning_rate=0.01, n_estimators=300, random_state=None)"
      ]
     },
     "execution_count": 16,
     "metadata": {},
     "output_type": "execute_result"
    }
   ],
   "source": [
    "AdaBoost2 = ensemble.AdaBoostClassifier(base_estimator=DecisionTreeClassifier(max_depth=3), n_estimators=300, learning_rate=0.01)\n",
    "AdaBoost2.fit(X_train[predictors], y_train)"
   ]
  },
  {
   "cell_type": "markdown",
   "metadata": {},
   "source": [
    "#### 模型预测"
   ]
  },
  {
   "cell_type": "code",
   "execution_count": 18,
   "metadata": {},
   "outputs": [
    {
     "name": "stdout",
     "output_type": "stream",
     "text": [
      "模型的评估报告：\n",
      "               precision    recall  f1-score   support\n",
      "\n",
      "           0       0.83      0.96      0.89      5800\n",
      "           1       0.69      0.34      0.45      1700\n",
      "\n",
      "    accuracy                           0.82      7500\n",
      "   macro avg       0.76      0.65      0.67      7500\n",
      "weighted avg       0.80      0.82      0.79      7500\n",
      "\n"
     ]
    }
   ],
   "source": [
    "pred2 = AdaBoost2.predict(X_test[predictors])\n",
    "print('模型的评估报告：\\n', metrics.classification_report(y_test, pred2))"
   ]
  },
  {
   "cell_type": "markdown",
   "metadata": {},
   "source": [
    "#### ROC曲线"
   ]
  },
  {
   "cell_type": "code",
   "execution_count": 20,
   "metadata": {
    "scrolled": true
   },
   "outputs": [
    {
     "data": {
      "image/png": "[encoded data removed]",
      "text/plain": [
       "<Figure size 432x288 with 1 Axes>"
      ]
     },
     "metadata": {
      "needs_background": "light"
     },
     "output_type": "display_data"
    }
   ],
   "source": [
    "y_score = AdaBoost2.predict_proba(X_test[predictors])[:,1]\n",
    "fpr, tpr, threshold = metrics.roc_curve(y_test, y_score)\n",
    "roc_auc = metrics.auc(fpr, tpr)\n",
    "plt.stackplot(fpr, tpr, colors='steelblue', alpha=0.5, edgecolor='black') # 绘制面积图\n",
    "plt.plot(fpr, tpr, color='black', lw=1) # 添加边际线\n",
    "plt.plot([0, 1], [0, 1], color='red', linestyle='--') # 添加对角线\n",
    "plt.text(0.5, 0.3, 'ROC curve (area = %0.2f)' % roc_auc) # 添加文本信息\n",
    "plt.xlabel('1-Specificity')\n",
    "plt.ylabel('Specificity')\n",
    "plt.show()"
   ]
  },
  {
   "cell_type": "markdown",
   "metadata": {},
   "source": [
    "## GBDT"
   ]
  },
  {
   "cell_type": "markdown",
   "metadata": {},
   "source": [
    "#### 数据准备"
   ]
  },
  {
   "cell_type": "code",
   "execution_count": 1,
   "metadata": {},
   "outputs": [
    {
     "data": {
      "image/png": "[encoded data removed]",
      "text/plain": [
       "<Figure size 432x288 with 1 Axes>"
      ]
     },
     "metadata": {},
     "output_type": "display_data"
    }
   ],
   "source": [
    "import pandas as pd\n",
    "import matplotlib.pyplot as plt\n",
    "default = pd.read_excel(\"C:/Users/ylc/GitHub/Learning/Python/PyhtonDataMiningFromZero/default of credit card.xls\")"
   ]
  },
  {
   "cell_type": "markdown",
   "metadata": {},
   "source": [
    "#### 模型初步构建"
   ]
  },
  {
   "cell_type": "code",
   "execution_count": 8,
   "metadata": {},
   "outputs": [
    {
     "name": "stdout",
     "output_type": "stream",
     "text": [
      "模型的评估报告：\n",
      "               precision    recall  f1-score   support\n",
      "\n",
      "           0       0.84      0.95      0.89      5800\n",
      "           1       0.68      0.37      0.48      1700\n",
      "\n",
      "    accuracy                           0.82      7500\n",
      "   macro avg       0.76      0.66      0.68      7500\n",
      "weighted avg       0.80      0.82      0.80      7500\n",
      "\n"
     ]
    }
   ],
   "source": [
    "from sklearn import model_selection\n",
    "from sklearn import ensemble\n",
    "from sklearn import metrics\n",
    "X = default.drop(['ID', 'y'], axis=1)\n",
    "y = default.y\n",
    "X_train, X_test, y_train, y_test = model_selection.train_test_split(X, y, test_size=0.25, random_state=1234)\n",
    "\n",
    "gbdt_grid1 = ensemble.GradientBoostingClassifier() # 构建GBDT算法\n",
    "gbdt_grid1.fit(X_train, y_train) # 算法拟合\n",
    "pred1 =gbdt_grid1.predict(X_test) # 模型预测\n",
    "print('模型的评估报告：\\n', metrics.classification_report(y_test, pred1))"
   ]
  },
  {
   "cell_type": "markdown",
   "metadata": {},
   "source": [
    "#### 选择建模变量"
   ]
  },
  {
   "cell_type": "code",
   "execution_count": 9,
   "metadata": {},
   "outputs": [
    {
     "data": {
      "image/png": "[encoded data removed]",
      "text/plain": [
       "<Figure size 432x288 with 1 Axes>"
      ]
     },
     "metadata": {
      "needs_background": "light"
     },
     "output_type": "display_data"
    }
   ],
   "source": [
    "# 变量重要性排序\n",
    "importance = pd.Series(gbdt_grid1.feature_importances_, index=X.columns)\n",
    "importance.sort_values().plot(kind='barh')\n",
    "plt.show()"
   ]
  },
  {
   "cell_type": "code",
   "execution_count": 13,
   "metadata": {},
   "outputs": [],
   "source": [
    "predictors = list(importance[importance>0.01].index) # 取出重要性比较高的自变量建模"
   ]
  },
  {
   "cell_type": "markdown",
   "metadata": {},
   "source": [
    "#### 确定最佳参数并训练最佳模型"
   ]
  },
  {
   "cell_type": "code",
   "execution_count": 14,
   "metadata": {},
   "outputs": [
    {
     "name": "stdout",
     "output_type": "stream",
     "text": [
      "Fitting 5 folds for each of 48 candidates, totalling 240 fits\n"
     ]
    },
    {
     "name": "stderr",
     "output_type": "stream",
     "text": [
      "[Parallel(n_jobs=6)]: Using backend LokyBackend with 6 concurrent workers.\n",
      "[Parallel(n_jobs=6)]: Done  38 tasks      | elapsed:   46.3s\n",
      "[Parallel(n_jobs=6)]: Done 188 tasks      | elapsed:  4.4min\n",
      "[Parallel(n_jobs=6)]: Done 240 out of 240 | elapsed:  5.7min finished\n"
     ]
    },
    {
     "data": {
      "text/plain": [
       "({'learning_rate': 0.05, 'max_depth': 5, 'n_estimators': 100},\n",
       " 0.7792352998755983)"
      ]
     },
     "execution_count": 14,
     "metadata": {},
     "output_type": "execute_result"
    }
   ],
   "source": [
    "from sklearn.model_selection import GridSearchCV\n",
    "learning_rate = [0.01, 0.05, 0.1, 0.2]\n",
    "n_estimators = [100, 200, 300]\n",
    "max_depth = [3, 4, 5, 6]\n",
    "params = {'learning_rate':learning_rate, 'n_estimators':n_estimators, 'max_depth':max_depth}\n",
    "gbdt_grid = GridSearchCV(estimator = ensemble.GradientBoostingClassifier(), param_grid=params,\n",
    "                         scoring='roc_auc', cv=5, n_jobs=6, verbose=1)\n",
    "gbdt_grid.fit(X_train[predictors], y_train)\n",
    "gbdt_grid.best_params_, gbdt_grid.best_score_ # 返回参数的最佳组合和对应AUC值"
   ]
  },
  {
   "cell_type": "markdown",
   "metadata": {},
   "source": [
    "#### 模型预测"
   ]
  },
  {
   "cell_type": "code",
   "execution_count": 15,
   "metadata": {},
   "outputs": [
    {
     "name": "stdout",
     "output_type": "stream",
     "text": [
      "模型的评估报告：\n",
      "               precision    recall  f1-score   support\n",
      "\n",
      "           0       0.84      0.95      0.89      5800\n",
      "           1       0.68      0.36      0.47      1700\n",
      "\n",
      "    accuracy                           0.82      7500\n",
      "   macro avg       0.76      0.66      0.68      7500\n",
      "weighted avg       0.80      0.82      0.79      7500\n",
      "\n"
     ]
    }
   ],
   "source": [
    "pred = gbdt_grid.predict(X_test[predictors])\n",
    "print('模型的评估报告：\\n', metrics.classification_report(y_test, pred))"
   ]
  },
  {
   "cell_type": "markdown",
   "metadata": {},
   "source": [
    "#### ROC曲线"
   ]
  },
  {
   "cell_type": "code",
   "execution_count": 18,
   "metadata": {},
   "outputs": [
    {
     "data": {
      "image/png": "[encoded data removed]",
      "text/plain": [
       "<Figure size 432x288 with 1 Axes>"
      ]
     },
     "metadata": {
      "needs_background": "light"
     },
     "output_type": "display_data"
    }
   ],
   "source": [
    "# 计算客户违约的概率值，用于生成ROC曲线的数据\n",
    "y_score = gbdt_grid.predict_proba(X_test[predictors])[:, 1]\n",
    "fpr, tpr, threshold = metrics.roc_curve(y_test, y_score)\n",
    "# 计算AUC值\n",
    "roc_auc = metrics.auc(fpr, tpr)\n",
    "# 绘制面积图\n",
    "plt.stackplot(fpr, tpr, colors='steelblue', alpha=0.5, edgecolor='black')\n",
    "# 添加边际线\n",
    "plt.plot(fpr, tpr, color='black', lw=1)\n",
    "# 添加对角线\n",
    "plt.plot([0, 1], [0, 1], color='red', linestyle='--')\n",
    "# 添加文本信息\n",
    "plt.text(0.5, 0.3, 'ROC curve (area = %0.2f)' % roc_auc)\n",
    "# 添加x轴与y轴标签\n",
    "plt.xlabel('1-Specificity')\n",
    "plt.ylabel('Specificity')\n",
    "plt.show()"
   ]
  },
  {
   "cell_type": "markdown",
   "metadata": {},
   "source": [
    "## XGBoost"
   ]
  },
  {
   "cell_type": "markdown",
   "metadata": {},
   "source": [
    "#### 数据准备"
   ]
  },
  {
   "cell_type": "code",
   "execution_count": 1,
   "metadata": {},
   "outputs": [],
   "source": [
    "import pandas as pd\n",
    "creditcard = pd.read_csv(\"C:/Users/ylc/GitHub/Learning/Python/PyhtonDataMiningFromZero/creditcard.csv\")"
   ]
  },
  {
   "cell_type": "code",
   "execution_count": 2,
   "metadata": {},
   "outputs": [
    {
     "data": {
      "image/png": "[encoded data removed]",
      "text/plain": [
       "<Figure size 432x288 with 1 Axes>"
      ]
     },
     "metadata": {},
     "output_type": "display_data"
    }
   ],
   "source": [
    "# 查看样本是否存在不平衡问题\n",
    "import matplotlib.pyplot as plt\n",
    "plt.axes(aspect='equal') # 确保绘制的饼图为圆形\n",
    "plt.rcParams['font.sans-serif'] = ['Microsoft YaHei'] # 确保汉字显示正常\n",
    "plt.rcParams['axes.unicode_minus'] = False # 正常显示负号\n",
    "counts = creditcard.Class.value_counts() # 统计交易是否为欺诈的频数\n",
    "plt.pie(x=counts, labels=pd.Series(counts.index).map({0:'正常', 1:'欺诈'}), autopct='%.2f%%') # 绘制饼图\n",
    "plt.show()"
   ]
  },
  {
   "cell_type": "markdown",
   "metadata": {},
   "source": [
    "#### 不平衡数据处理"
   ]
  },
  {
   "cell_type": "code",
   "execution_count": 9,
   "metadata": {},
   "outputs": [
    {
     "name": "stdout",
     "output_type": "stream",
     "text": [
      "重抽样前的样本比例：\n",
      " 0    0.998239\n",
      "1    0.001761\n",
      "Name: Class, dtype: float64\n",
      "重抽样后的类别比例：\n",
      " 1    0.5\n",
      "0    0.5\n",
      "Name: Class, dtype: float64\n"
     ]
    }
   ],
   "source": [
    "from imblearn.over_sampling import SMOTE\n",
    "from sklearn import model_selection\n",
    "X = creditcard.drop(['Time'], axis=1) # 删除自变量中的Time变量\n",
    "y = creditcard.Class\n",
    "X_train, X_test, y_train, y_test = model_selection.train_test_split(X, y, test_size=0.3, random_state=1234)\n",
    "# 运用SMOTE算法实现训练数据集的平衡\n",
    "over_samples = SMOTE(random_state=1234)\n",
    "over_samples_X, over_samples_y = over_samples.fit_resample(X_train, y_train)\n",
    "print(\"重抽样前的样本比例：\\n\", y_train.value_counts()/len(y_train))\n",
    "print(\"重抽样后的类别比例：\\n\", pd.Series(over_samples_y).value_counts()/len(over_samples_y))"
   ]
  },
  {
   "cell_type": "markdown",
   "metadata": {},
   "source": [
    "#### 建立模型与测试"
   ]
  },
  {
   "cell_type": "code",
   "execution_count": 15,
   "metadata": {},
   "outputs": [
    {
     "name": "stderr",
     "output_type": "stream",
     "text": [
      "C:\\ProgramData\\Anaconda3\\lib\\site-packages\\xgboost\\sklearn.py:888: UserWarning: The use of label encoder in XGBClassifier is deprecated and will be removed in a future release. To remove this warning, do the following: 1) Pass option use_label_encoder=False when constructing XGBClassifier object; and 2) Encode your labels (y) as integers starting with 0, i.e. 0, 1, 2, ..., [num_class - 1].\n",
      "  warnings.warn(label_encoder_deprecation_msg, UserWarning)\n"
     ]
    },
    {
     "name": "stdout",
     "output_type": "stream",
     "text": [
      "[20:11:38] WARNING: C:/Users/Administrator/workspace/xgboost-win64_release_1.3.0/src/learner.cc:1061: Starting in XGBoost 1.3.0, the default evaluation metric used with the objective 'binary:logistic' was changed from 'error' to 'logloss'. Explicitly set eval_metric if you'd like to restore the old behavior.\n"
     ]
    },
    {
     "data": {
      "text/plain": [
       "XGBClassifier(base_score=0.5, booster='gbtree', colsample_bylevel=1,\n",
       "              colsample_bynode=1, colsample_bytree=1, gamma=0, gpu_id=-1,\n",
       "              importance_type='gain', interaction_constraints='',\n",
       "              learning_rate=0.300000012, max_delta_step=0, max_depth=6,\n",
       "              min_child_weight=1, missing=nan, monotone_constraints='()',\n",
       "              n_estimators=100, n_jobs=16, num_parallel_tree=1, random_state=0,\n",
       "              reg_alpha=0, reg_lambda=1, scale_pos_weight=1, subsample=1,\n",
       "              tree_method='exact', validate_parameters=1, verbosity=None)"
      ]
     },
     "execution_count": 15,
     "metadata": {},
     "output_type": "execute_result"
    }
   ],
   "source": [
    "import xgboost\n",
    "import numpy as np\n",
    "from sklearn import metrics\n",
    "xgboost_model = xgboost.XGBClassifier() # 构建XGBoost分类器\n",
    "xgboost_model.fit(over_samples_X, over_samples_y) # 使用重抽样后的数据，对其建模"
   ]
  },
  {
   "cell_type": "code",
   "execution_count": 32,
   "metadata": {},
   "outputs": [
    {
     "name": "stdout",
     "output_type": "stream",
     "text": [
      "模型的评估报告：\n",
      "               precision    recall  f1-score   support\n",
      "\n",
      "           0       1.00      1.00      1.00     85302\n",
      "           1       1.00      1.00      1.00       141\n",
      "\n",
      "    accuracy                           1.00     85443\n",
      "   macro avg       1.00      1.00      1.00     85443\n",
      "weighted avg       1.00      1.00      1.00     85443\n",
      "\n"
     ]
    }
   ],
   "source": [
    "resample_pred = xgboost_model.predict(X_test) # 利用测试集进行测试\n",
    "print('模型的评估报告：\\n', metrics.classification_report(y_test, resample_pred))"
   ]
  },
  {
   "cell_type": "markdown",
   "metadata": {},
   "source": [
    "#### ROC曲线"
   ]
  },
  {
   "cell_type": "code",
   "execution_count": 34,
   "metadata": {},
   "outputs": [
    {
     "data": {
      "image/png": "[encoded data removed]",
      "text/plain": [
       "<Figure size 432x288 with 1 Axes>"
      ]
     },
     "metadata": {
      "needs_background": "light"
     },
     "output_type": "display_data"
    }
   ],
   "source": [
    "y_score = xgboost_model.predict_proba(X_test)[:, 1]\n",
    "fpr, tpr, threshold = metrics.roc_curve(y_test, y_score)\n",
    "roc_auc = metrics.auc(fpr, tpr)\n",
    "plt.stackplot(fpr, tpr, colors='steelblue', alpha=0.5, edgecolor='black')\n",
    "plt.plot(fpr, tpr, color='black', lw=1)\n",
    "plt.plot([0, 1], [0, 1], color='red', linestyle='--')\n",
    "plt.text(0.5, 0.3, 'ROC curve (area = %0.2f)' % roc_auc)\n",
    "plt.xlabel('1-Specificity')\n",
    "plt.ylabel('Sensitivity')\n",
    "plt.show()"
   ]
  },
  {
   "cell_type": "code",
   "execution_count": null,
   "metadata": {},
   "outputs": [],
   "source": []
  }
 ],
 "metadata": {
  "kernelspec": {
   "display_name": "Python 3",
   "language": "python",
   "name": "python3"
  },
  "language_info": {
   "codemirror_mode": {
    "name": "ipython",
    "version": 3
   },
   "file_extension": ".py",
   "mimetype": "text/x-python",
   "name": "python",
   "nbconvert_exporter": "python",
   "pygments_lexer": "ipython3",
   "version": "3.8.5"
  },
  "varInspector": {
   "cols": {
    "lenName": 16,
    "lenType": 16,
    "lenVar": 40
   },
   "kernels_config": {
    "python": {
     "delete_cmd_postfix": "",
     "delete_cmd_prefix": "del ",
     "library": "var_list.py",
     "varRefreshCmd": "print(var_dic_list())"
    },
    "r": {
     "delete_cmd_postfix": ") ",
     "delete_cmd_prefix": "rm(",
     "library": "var_list.r",
     "varRefreshCmd": "cat(var_dic_list()) "
    }
   },
   "types_to_exclude": [
    "module",
    "function",
    "builtin_function_or_method",
    "instance",
    "_Feature"
   ],
   "window_display": false
  }
 },
 "nbformat": 4,
 "nbformat_minor": 4
}
